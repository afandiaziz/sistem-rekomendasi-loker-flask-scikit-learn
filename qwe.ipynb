{
 "cells": [
  {
   "cell_type": "code",
   "execution_count": 20,
   "id": "f10bb7bf",
   "metadata": {},
   "outputs": [],
   "source": [
    "import re\n",
    "import sys\n",
    "import math\n",
    "import pandas as pd\n",
    "import mysql.connector\n",
    "from datetime import date\n",
    "from sklearn.metrics.pairwise import cosine_similarity\n",
    "from sklearn.feature_extraction.text import CountVectorizer\n",
    "from sklearn.feature_extraction.text import TfidfVectorizer\n",
    "from Sastrawi.StopWordRemover.StopWordRemoverFactory import StopWordRemoverFactory"
   ]
  },
  {
   "cell_type": "code",
   "execution_count": 21,
   "id": "88ba8ec7",
   "metadata": {},
   "outputs": [],
   "source": [
    "data = [\n",
    "    'hotel santika. terjangkau, strategis, dekat stasiun, mall, apartment, pasar',\n",
    "    'hotel margonda. strategis, dekat stasiun, kampus, mewah nyaman',\n",
    "    'hotel aviary bintaro. hotel bintang 4. mewah, bersih, nyaman, pelayanan terbaik tenang',\n",
    "]\n",
    "keywords = [\"mewah, nyaman, dan terjangkau\"]"
   ]
  },
  {
   "cell_type": "code",
   "execution_count": 22,
   "id": "b3a055f4",
   "metadata": {},
   "outputs": [
    {
     "data": {
      "text/html": [
       "<div>\n",
       "<style scoped>\n",
       "    .dataframe tbody tr th:only-of-type {\n",
       "        vertical-align: middle;\n",
       "    }\n",
       "\n",
       "    .dataframe tbody tr th {\n",
       "        vertical-align: top;\n",
       "    }\n",
       "\n",
       "    .dataframe thead th {\n",
       "        text-align: right;\n",
       "    }\n",
       "</style>\n",
       "<table border=\"1\" class=\"dataframe\">\n",
       "  <thead>\n",
       "    <tr style=\"text-align: right;\">\n",
       "      <th></th>\n",
       "      <th>text</th>\n",
       "    </tr>\n",
       "  </thead>\n",
       "  <tbody>\n",
       "    <tr>\n",
       "      <th>0</th>\n",
       "      <td>hotel santika. terjangkau, strategis, dekat st...</td>\n",
       "    </tr>\n",
       "    <tr>\n",
       "      <th>1</th>\n",
       "      <td>hotel margonda. strategis, dekat stasiun, kamp...</td>\n",
       "    </tr>\n",
       "    <tr>\n",
       "      <th>2</th>\n",
       "      <td>hotel aviary bintaro. hotel bintang 4. mewah, ...</td>\n",
       "    </tr>\n",
       "  </tbody>\n",
       "</table>\n",
       "</div>"
      ],
      "text/plain": [
       "                                                text\n",
       "0  hotel santika. terjangkau, strategis, dekat st...\n",
       "1  hotel margonda. strategis, dekat stasiun, kamp...\n",
       "2  hotel aviary bintaro. hotel bintang 4. mewah, ..."
      ]
     },
     "execution_count": 22,
     "metadata": {},
     "output_type": "execute_result"
    }
   ],
   "source": [
    "df = pd.DataFrame(data, columns=[\"text\"])\n",
    "df = df.dropna()\n",
    "dfCombine = df[\"text\"]\n",
    "df"
   ]
  },
  {
   "cell_type": "code",
   "execution_count": 23,
   "id": "91453121",
   "metadata": {},
   "outputs": [],
   "source": [
    "vectorizer = TfidfVectorizer(norm=None)\n",
    "countVectorizer = CountVectorizer()\n",
    "tfidf_matrix = vectorizer.fit_transform(dfCombine)\n",
    "tfidf_matrix_count = countVectorizer.fit_transform(dfCombine)\n",
    "new_tfidf_vector = vectorizer.transform(keywords)\n",
    "new_tfidf_vector_count = countVectorizer.transform(keywords)"
   ]
  },
  {
   "cell_type": "code",
   "execution_count": 38,
   "id": "a7158517",
   "metadata": {},
   "outputs": [],
   "source": [
    "idf_values = vectorizer.idf_\n",
    "words = vectorizer.get_feature_names_out()\n",
    "document_frequencies = tfidf_matrix.astype(bool).sum(axis=0).A1"
   ]
  },
  {
   "cell_type": "code",
   "execution_count": 39,
   "id": "f48ba336",
   "metadata": {},
   "outputs": [
    {
     "name": "stdout",
     "output_type": "stream",
     "text": [
      "  (0, 6)\t1\n",
      "  (0, 14)\t1\n",
      "  (0, 19)\t1\n",
      "  (0, 16)\t1\n",
      "  (0, 5)\t1\n",
      "  (0, 15)\t1\n",
      "  (0, 8)\t1\n",
      "  (0, 0)\t1\n",
      "  (0, 12)\t1\n",
      "  (1, 6)\t1\n",
      "  (1, 16)\t1\n",
      "  (1, 5)\t1\n",
      "  (1, 15)\t1\n",
      "  (1, 9)\t1\n",
      "  (1, 7)\t1\n",
      "  (1, 10)\t1\n",
      "  (1, 11)\t1\n",
      "  (2, 6)\t2\n",
      "  (2, 10)\t1\n",
      "  (2, 11)\t1\n",
      "  (2, 1)\t1\n",
      "  (2, 4)\t1\n",
      "  (2, 3)\t1\n",
      "  (2, 2)\t1\n",
      "  (2, 13)\t1\n",
      "  (2, 18)\t1\n",
      "  (2, 17)\t1\n"
     ]
    }
   ],
   "source": [
    "columnsName = [\"Word\"]\n",
    "totalDocuments = 0\n",
    "\n",
    "indexColumn = 1\n",
    "for index in range(len(data) + len(keywords)):\n",
    "    if index == len(data):\n",
    "        indexColumn = 1\n",
    "    \n",
    "    if index < len(data):\n",
    "        columnsName.append(\"Dokumen \" + str(indexColumn))\n",
    "        totalDocuments = totalDocuments + 1\n",
    "    else:\n",
    "        columnsName.append(\"Keyword \" + str(indexColumn))\n",
    "    \n",
    "    indexColumn = indexColumn + 1\n",
    "    \n",
    "print(tfidf_matrix_count)"
   ]
  },
  {
   "cell_type": "code",
   "execution_count": 41,
   "id": "84938bb0",
   "metadata": {},
   "outputs": [
    {
     "name": "stdout",
     "output_type": "stream",
     "text": [
      "          Word Dokumen 1 Dokumen 2 Dokumen 3 Keyword 1\n",
      "0    apartment         1         1         1         0\n",
      "1       aviary         0         0         0         0\n",
      "2       bersih         0         0         0         0\n",
      "3      bintang         0         0         0         0\n",
      "4      bintaro         0         0         0         0\n",
      "5        dekat         1         1         1         0\n",
      "6        hotel         1         1         1         0\n",
      "7       kampus         0         0         0         0\n",
      "8         mall         1         1         1         0\n",
      "9     margonda         0         0         0         0\n",
      "10       mewah         0         0         0         1\n",
      "11      nyaman         0         0         0         1\n",
      "12       pasar         1         1         1         0\n",
      "13   pelayanan         0         0         0         0\n",
      "14     santika         1         1         1         0\n",
      "15     stasiun         1         1         1         0\n",
      "16   strategis         1         1         1         0\n",
      "17      tenang         0         0         0         0\n",
      "18     terbaik         0         0         0         0\n",
      "19  terjangkau         1         1         1         1\n"
     ]
    }
   ],
   "source": [
    "printDataFrame = pd.DataFrame({\n",
    "    columnsName[0]: words\n",
    "})\n",
    "\n",
    "indexColumnTemp = 0\n",
    "for indexColumn, columnName in enumerate(columnsName):\n",
    "    \n",
    "    if indexColumn == 0:\n",
    "        continue\n",
    "    elif indexColumn > len(data):\n",
    "        if indexColumn == len(data):\n",
    "            indexColumnTemp = 0\n",
    "            \n",
    "        printDataFrame[columnName] = \"\"\n",
    "        for word_index, word in enumerate(words):\n",
    "            printDataFrame.at[word_index, columnName] = new_tfidf_vector_count[indexColumnTemp, word_index]\n",
    "    else:\n",
    "        printDataFrame[columnName] = \"\"\n",
    "        for word_index, word in enumerate(words):\n",
    "            printDataFrame.at[word_index, columnName] = tfidf_matrix_count[indexColumnTemp, word_index]\n",
    "            \n",
    "    indexColumnTemp += indexColumnTemp\n",
    "\n",
    "\n",
    "# add new row\n",
    "#printDataFrame.loc[len(printDataFrame)] = [\"a\"]\n",
    "\n",
    "#for word_index, word in enumerate(words):\n",
    "\n",
    "print(printDataFrame)\n",
    "#for index, tf in enumerate(tfidf_matrix_count):\n",
    "#    tfidf_matrix_count[index, word_index]"
   ]
  },
  {
   "cell_type": "code",
   "execution_count": 27,
   "id": "e99bf0e5",
   "metadata": {},
   "outputs": [
    {
     "name": "stdout",
     "output_type": "stream",
     "text": [
      "1. Word: apartment\n",
      "   (DF:1  IDF:1.6931471805599454)\n",
      "2. Word: aviary\n",
      "   (DF:1  IDF:1.6931471805599454)\n",
      "3. Word: bersih\n",
      "   (DF:1  IDF:1.6931471805599454)\n",
      "4. Word: bintang\n",
      "   (DF:1  IDF:1.6931471805599454)\n",
      "5. Word: bintaro\n",
      "   (DF:1  IDF:1.6931471805599454)\n",
      "6. Word: dekat\n",
      "   (DF:2  IDF:1.2876820724517808)\n",
      "7. Word: hotel\n",
      "   (DF:3  IDF:1.0)\n",
      "8. Word: kampus\n",
      "   (DF:1  IDF:1.6931471805599454)\n",
      "9. Word: mall\n",
      "   (DF:1  IDF:1.6931471805599454)\n",
      "10. Word: margonda\n",
      "   (DF:1  IDF:1.6931471805599454)\n",
      "11. Word: mewah\n",
      "   (DF:2  IDF:1.2876820724517808)\n",
      "12. Word: nyaman\n",
      "   (DF:2  IDF:1.2876820724517808)\n",
      "13. Word: pasar\n",
      "   (DF:1  IDF:1.6931471805599454)\n",
      "14. Word: pelayanan\n",
      "   (DF:1  IDF:1.6931471805599454)\n",
      "15. Word: santika\n",
      "   (DF:1  IDF:1.6931471805599454)\n",
      "16. Word: stasiun\n",
      "   (DF:2  IDF:1.2876820724517808)\n",
      "17. Word: strategis\n",
      "   (DF:2  IDF:1.2876820724517808)\n",
      "18. Word: tenang\n",
      "   (DF:1  IDF:1.6931471805599454)\n",
      "19. Word: terbaik\n",
      "   (DF:1  IDF:1.6931471805599454)\n",
      "20. Word: terjangkau\n",
      "   (DF:1  IDF:1.6931471805599454)\n"
     ]
    }
   ],
   "source": [
    "for word_index, word in enumerate(words):\n",
    "    print(str(word_index + 1) + \". Word: \" + str(word))\n",
    "    print(\"   (DF:\" + str(document_frequencies[word_index]) + \"  IDF:\" + str(idf_values[word_index]) + \")\")"
   ]
  },
  {
   "cell_type": "code",
   "execution_count": 28,
   "id": "df9117bd",
   "metadata": {},
   "outputs": [],
   "source": [
    "dataTf = []\n",
    "for index, document in enumerate(data):\n",
    "    dataTf.append([])\n",
    "    for word_index, word in enumerate(words):\n",
    "    \tdataTf[index].append(tfidf_matrix_count[index, word_index])\n",
    "\n",
    "        \n",
    "currentLength = len(dataTf)\n",
    "for index, document in enumerate(keywords):\n",
    "\tdataTf.append([])\n",
    "\tfor word_index, word in enumerate(words):\n",
    "\t\tdataTf[currentLength].append(new_tfidf_vector_count[index, word_index])\n",
    "\tcurrentLength += currentLength\n"
   ]
  },
  {
   "cell_type": "code",
   "execution_count": 29,
   "id": "171f90fc",
   "metadata": {},
   "outputs": [
    {
     "name": "stdout",
     "output_type": "stream",
     "text": [
      "          Word  Dokumen 1  Dokumen 2  Dokumen 3  Keyword 1\n",
      "0    apartment          1          0          0          0\n",
      "1       aviary          0          0          1          0\n",
      "2       bersih          0          0          1          0\n",
      "3      bintang          0          0          1          0\n",
      "4      bintaro          0          0          1          0\n",
      "5        dekat          1          1          0          0\n",
      "6        hotel          1          1          2          0\n",
      "7       kampus          0          1          0          0\n",
      "8         mall          1          0          0          0\n",
      "9     margonda          0          1          0          0\n",
      "10       mewah          0          1          1          1\n",
      "11      nyaman          0          1          1          1\n",
      "12       pasar          1          0          0          0\n",
      "13   pelayanan          0          0          1          0\n",
      "14     santika          1          0          0          0\n",
      "15     stasiun          1          1          0          0\n",
      "16   strategis          1          1          0          0\n",
      "17      tenang          0          0          1          0\n",
      "18     terbaik          0          0          1          0\n",
      "19  terjangkau          1          0          0          1\n"
     ]
    }
   ],
   "source": [
    "#term frequency\n",
    "\n",
    "rows = []\n",
    "for word_index, word in enumerate(words):\n",
    "    columns = []\n",
    "    columns.append(word)\n",
    "    for index in range(len(dataTf)):\n",
    "        columns.append(dataTf[index][word_index])\n",
    "\n",
    "    rows.append(columns)\n",
    "    \n",
    "tfDataFrame = pd.DataFrame(rows, columns=columnsName)\n",
    "    \n",
    "print(tfDataFrame)\n"
   ]
  },
  {
   "cell_type": "code",
   "execution_count": 30,
   "id": "4b39beb1",
   "metadata": {},
   "outputs": [
    {
     "name": "stdout",
     "output_type": "stream",
     "text": [
      "          Word  DF       IDF\n",
      "0    apartment   1  1.693147\n",
      "1       aviary   1  1.693147\n",
      "2       bersih   1  1.693147\n",
      "3      bintang   1  1.693147\n",
      "4      bintaro   1  1.693147\n",
      "5        dekat   2  1.287682\n",
      "6        hotel   3  1.000000\n",
      "7       kampus   1  1.693147\n",
      "8         mall   1  1.693147\n",
      "9     margonda   1  1.693147\n",
      "10       mewah   2  1.287682\n",
      "11      nyaman   2  1.287682\n",
      "12       pasar   1  1.693147\n",
      "13   pelayanan   1  1.693147\n",
      "14     santika   1  1.693147\n",
      "15     stasiun   2  1.287682\n",
      "16   strategis   2  1.287682\n",
      "17      tenang   1  1.693147\n",
      "18     terbaik   1  1.693147\n",
      "19  terjangkau   1  1.693147\n"
     ]
    }
   ],
   "source": [
    "rows = []\n",
    "for word_index, word in enumerate(words):\n",
    "    columns = []\n",
    "    columns.append(word)\n",
    "    columns.append(document_frequencies[word_index])\n",
    "    columns.append(idf_values[word_index])\n",
    "    rows.append(columns)\n",
    "    \n",
    "weightedDataFrame = pd.DataFrame(rows, columns=[\"Word\", \"DF\", \"IDF\"])\n",
    "print(weightedDataFrame)\n",
    "#for word_index, word in enumerate(words):\n",
    "#    print(word_index + 1, \" Word:\",  word, \"  TF:\", document_frequencies[word_index], \"  IDF:\", idf_values[word_index])"
   ]
  },
  {
   "cell_type": "code",
   "execution_count": 31,
   "id": "c9452f95",
   "metadata": {},
   "outputs": [
    {
     "name": "stdout",
     "output_type": "stream",
     "text": [
      "          Word  Dokumen 1  Dokumen 2  Dokumen 3  Keyword 1\n",
      "0    apartment   1.693147   0.000000   0.000000   0.000000\n",
      "1       aviary   0.000000   0.000000   1.693147   0.000000\n",
      "2       bersih   0.000000   0.000000   1.693147   0.000000\n",
      "3      bintang   0.000000   0.000000   1.693147   0.000000\n",
      "4      bintaro   0.000000   0.000000   1.693147   0.000000\n",
      "5        dekat   1.287682   1.287682   0.000000   0.000000\n",
      "6        hotel   1.000000   1.000000   2.000000   0.000000\n",
      "7       kampus   0.000000   1.693147   0.000000   0.000000\n",
      "8         mall   1.693147   0.000000   0.000000   0.000000\n",
      "9     margonda   0.000000   1.693147   0.000000   0.000000\n",
      "10       mewah   0.000000   1.287682   1.287682   1.287682\n",
      "11      nyaman   0.000000   1.287682   1.287682   1.287682\n",
      "12       pasar   1.693147   0.000000   0.000000   0.000000\n",
      "13   pelayanan   0.000000   0.000000   1.693147   0.000000\n",
      "14     santika   1.693147   0.000000   0.000000   0.000000\n",
      "15     stasiun   1.287682   1.287682   0.000000   0.000000\n",
      "16   strategis   1.287682   1.287682   0.000000   0.000000\n",
      "17      tenang   0.000000   0.000000   1.693147   0.000000\n",
      "18     terbaik   0.000000   0.000000   1.693147   0.000000\n",
      "19  terjangkau   1.693147   0.000000   0.000000   1.693147\n"
     ]
    }
   ],
   "source": [
    "#tf x idf\n",
    "tfidfDataFrame = tfDataFrame\n",
    "\n",
    "\n",
    "for index, tf in enumerate(tfDataFrame.iterrows()):\n",
    "    for indexColumn, column in enumerate(columnsName):\n",
    "        if indexColumn > 0:\n",
    "            tfidfDataFrame.at[index, column] = float(tfidfDataFrame.loc[index, column]) * float(idf_values[index])\n",
    "    \n",
    "print(tfidfDataFrame)\n"
   ]
  },
  {
   "cell_type": "code",
   "execution_count": 32,
   "id": "81931101",
   "metadata": {},
   "outputs": [],
   "source": [
    "for doc_index, doc in enumerate(dfCombine):\n",
    "    #print(\"Document:\", doc)\n",
    "    tfidf_values = tfidf_matrix[doc_index].toarray()[0]\n",
    "    for feature_index, tf_value in enumerate(tfidf_values):\n",
    "        #if tf_value > 0:\n",
    "        idf_value = idf_values[feature_index]\n",
    "        df_value = document_frequencies[feature_index]\n",
    "        #print(\"  Word:\", feature_names[feature_index], \"  DF:\", df_value, \"  TF:\", tf_value, \"  IDF:\", idf_value)\n",
    "    #print()"
   ]
  },
  {
   "cell_type": "code",
   "execution_count": 33,
   "id": "25cc117d",
   "metadata": {},
   "outputs": [
    {
     "data": {
      "text/plain": [
       "1.2876820724517808"
      ]
     },
     "execution_count": 33,
     "metadata": {},
     "output_type": "execute_result"
    }
   ],
   "source": [
    "# norm l2\n",
    "tfidf_matrix.toarray()[0, 5]"
   ]
  },
  {
   "cell_type": "code",
   "execution_count": 34,
   "id": "15107c71",
   "metadata": {},
   "outputs": [
    {
     "data": {
      "text/plain": [
       "array([[0.        , 0.        , 0.        , 0.        , 0.        ,\n",
       "        0.        , 0.        , 0.        , 0.        , 0.        ,\n",
       "        1.28768207, 1.28768207, 0.        , 0.        , 0.        ,\n",
       "        0.        , 0.        , 0.        , 0.        , 1.69314718]])"
      ]
     },
     "execution_count": 34,
     "metadata": {},
     "output_type": "execute_result"
    }
   ],
   "source": [
    "new_tfidf_vector.toarray()"
   ]
  },
  {
   "cell_type": "code",
   "execution_count": 35,
   "id": "5140254c",
   "metadata": {},
   "outputs": [
    {
     "name": "stdout",
     "output_type": "stream",
     "text": [
      "          Word  Dokumen 1  Dokumen 2  Dokumen 3  Keyword 1\n",
      "0    apartment   1.693147   0.000000   0.000000   0.000000\n",
      "1       aviary   0.000000   0.000000   1.693147   0.000000\n",
      "2       bersih   0.000000   0.000000   1.693147   0.000000\n",
      "3      bintang   0.000000   0.000000   1.693147   0.000000\n",
      "4      bintaro   0.000000   0.000000   1.693147   0.000000\n",
      "5        dekat   1.287682   1.287682   0.000000   0.000000\n",
      "6        hotel   1.000000   1.000000   2.000000   0.000000\n",
      "7       kampus   0.000000   1.693147   0.000000   0.000000\n",
      "8         mall   1.693147   0.000000   0.000000   0.000000\n",
      "9     margonda   0.000000   1.693147   0.000000   0.000000\n",
      "10       mewah   0.000000   1.287682   1.287682   1.287682\n",
      "11      nyaman   0.000000   1.287682   1.287682   1.287682\n",
      "12       pasar   1.693147   0.000000   0.000000   0.000000\n",
      "13   pelayanan   0.000000   0.000000   1.693147   0.000000\n",
      "14     santika   1.693147   0.000000   0.000000   0.000000\n",
      "15     stasiun   1.287682   1.287682   0.000000   0.000000\n",
      "16   strategis   1.287682   1.287682   0.000000   0.000000\n",
      "17      tenang   0.000000   0.000000   1.693147   0.000000\n",
      "18     terbaik   0.000000   0.000000   1.693147   0.000000\n",
      "19  terjangkau   1.693147   0.000000   0.000000   1.693147\n"
     ]
    }
   ],
   "source": [
    "rows = []\n",
    "for word_index, word in enumerate(words):\n",
    "    columns = []\n",
    "    columns.append(word)\n",
    "    for index, matrix in enumerate(tfidf_matrix.toarray()):\n",
    "        columns.append(matrix[word_index])\n",
    "    \n",
    "    for index, matrix in enumerate(new_tfidf_vector.toarray()):\n",
    "        columns.append(matrix[word_index])\n",
    "\n",
    "    rows.append(columns)\n",
    "    \n",
    "tfidfNormL2DataFrame = pd.DataFrame(rows, columns=columnsName)\n",
    "print(tfidfNormL2DataFrame)"
   ]
  },
  {
   "cell_type": "code",
   "execution_count": 36,
   "id": "23b5efc2",
   "metadata": {},
   "outputs": [
    {
     "data": {
      "text/plain": [
       "1"
      ]
     },
     "execution_count": 36,
     "metadata": {},
     "output_type": "execute_result"
    }
   ],
   "source": [
    "similarity_scores = cosine_similarity(new_tfidf_vector, tfidf_matrix)\n",
    "best_match_index = similarity_scores.argmax()\n",
    "\n",
    "vacanciesWeighted = similarity_scores[0]\n",
    "sortedIndexVacancies = vacanciesWeighted.argsort()[::-1]\n",
    "\n",
    "best_match_index"
   ]
  },
  {
   "cell_type": "code",
   "execution_count": 37,
   "id": "f8382a91",
   "metadata": {},
   "outputs": [
    {
     "name": "stdout",
     "output_type": "stream",
     "text": [
      "Document 0 score:  0.25583214172871 rank:  2\n",
      "Document 1 score:  0.3440750866990368 rank:  1\n",
      "Document 2 score:  0.25486102212125017 rank:  3\n"
     ]
    }
   ],
   "source": [
    "for index, document in enumerate(data):\n",
    "\tprint(\"Document\", index, \"score: \", vacanciesWeighted[index], \"rank: \", sortedIndexVacancies[index] + 1)"
   ]
  },
  {
   "cell_type": "code",
   "execution_count": null,
   "id": "6683ed8a",
   "metadata": {},
   "outputs": [],
   "source": []
  }
 ],
 "metadata": {
  "kernelspec": {
   "display_name": "Python 3 (ipykernel)",
   "language": "python",
   "name": "python3"
  },
  "language_info": {
   "codemirror_mode": {
    "name": "ipython",
    "version": 3
   },
   "file_extension": ".py",
   "mimetype": "text/x-python",
   "name": "python",
   "nbconvert_exporter": "python",
   "pygments_lexer": "ipython3",
   "version": "3.10.5"
  }
 },
 "nbformat": 4,
 "nbformat_minor": 5
}
