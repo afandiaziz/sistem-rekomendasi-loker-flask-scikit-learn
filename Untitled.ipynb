{
 "cells": [
  {
   "cell_type": "code",
   "execution_count": 56,
   "id": "f2491241",
   "metadata": {},
   "outputs": [
    {
     "data": {
      "text/plain": [
       "array([[0.        , 0.        , 0.        , 0.55623785, 0.        ,\n",
       "        0.        , 0.53647502, 0.        , 0.        , 0.        ,\n",
       "        0.        , 0.        , 0.        , 0.        , 0.        ,\n",
       "        0.        , 0.        , 0.        , 0.        , 0.        ,\n",
       "        0.        , 0.        , 0.        , 0.        , 0.45168081]])"
      ]
     },
     "execution_count": 56,
     "metadata": {},
     "output_type": "execute_result"
    }
   ],
   "source": [
    "from sklearn.feature_extraction.text import TfidfVectorizer\n",
    "from sklearn.metrics.pairwise import cosine_similarity\n",
    "\n",
    "# Data pekerjaan (contoh, ganti dengan data pekerjaan yang sesuai)\n",
    "jobs = [\n",
    "    \"Lowongan Kerja Web Developer di Perusahaan ABC\",\n",
    "    \"Dibutuhkan Software Engineer untuk Proyek Inovatif\",\n",
    "    \"Lowongan Kerja Data Analyst dengan Gaji Menarik\",\n",
    "    \"Dicari UI/UX Designer berpengalaman untuk Startup\",\n",
    "    \"Lowongan Kerja Mobile App Developer Full-time\",\n",
    "    \"Dibutuhkan Software Engineer dengan pengalaman di bidang pengembangan web.\",\n",
    "    \"Dicari UI/UX Designer yang kreatif dan berpengalaman.\",\n",
    "    \"Perusahaan mencari Data Scientist untuk menganalisis data dan membuat model prediktif.\",\n",
    "    \"Dibutuhkan Digital Marketing Specialist untuk mengelola kampanye pemasaran online.\",\n",
    "    \"Perusahaan mencari Product Manager yang memiliki pengalaman di industri teknologi.\",\n",
    "    \"Dicari Content Writer yang kreatif dan mampu menulis konten berkualitas.\",\n",
    "    \"Perusahaan membutuhkan Frontend Developer untuk mengembangkan antarmuka pengguna.\",\n",
    "    \"Dibutuhkan HR Manager dengan pengalaman dalam manajemen sumber daya manusia.\",\n",
    "    \"Dicari Graphic Designer yang mampu menciptakan desain visual yang menarik.\",\n",
    "    \"Perusahaan mencari Business Analyst untuk menganalisis kebutuhan bisnis.\",\n",
    "    \"Dibutuhkan Sales Executive untuk menjalin hubungan bisnis dengan klien.\",\n",
    "    \"Dicari Full Stack Developer yang memiliki pengetahuan luas tentang teknologi terkini.\",\n",
    "    \"Perusahaan membutuhkan Customer Service Representative yang ramah dan efisien.\",\n",
    "    \"Dibutuhkan Project Manager untuk mengelola proyek dan tim dengan baik.\",\n",
    "    \"Dicari Social Media Specialist untuk mengelola kehadiran online perusahaan.\",\n",
    "    \"Perusahaan mencari Android Developer yang berpengalaman dalam pengembangan aplikasi.\",\n",
    "    \"Dibutuhkan Accountant untuk mengelola keuangan perusahaan.\",\n",
    "    \"Dicari Network Administrator yang memiliki pemahaman tentang jaringan komputer.\",\n",
    "    \"Perusahaan membutuhkan Legal Counsel untuk memberikan nasihat hukum.\",\n",
    "    \"Dibutuhkan UI/UX Researcher untuk mengumpulkan dan menganalisis data pengguna.\"\n",
    "]\n",
    "\n",
    "# Proses TF-IDF\n",
    "tfidf_vectorizer = TfidfVectorizer()\n",
    "tfidf_matrix = tfidf_vectorizer.fit_transform(jobs)\n",
    "\n",
    "# Kata kunci (contoh, ganti dengan kata kunci yang sesuai)\n",
    "keywords = \"UI/UX\"\n",
    "\n",
    "# Hitung TF-IDF untuk kata kunci\n",
    "keywords_tfidf = tfidf_vectorizer.transform([keywords])\n",
    "\n",
    "# Hitung cosine similarity antara kata kunci dan setiap pekerjaan\n",
    "cosine_similarities = cosine_similarity(keywords_tfidf, tfidf_matrix)\n",
    "cosine_similarities"
   ]
  },
  {
   "cell_type": "code",
   "execution_count": 35,
   "id": "f1521de0",
   "metadata": {},
   "outputs": [
    {
     "data": {
      "text/plain": [
       "array([[0.        , 0.        , 0.        , 0.55623785, 0.        ,\n",
       "        0.        , 0.53647502, 0.        , 0.        , 0.        ,\n",
       "        0.        , 0.        , 0.        , 0.        , 0.        ,\n",
       "        0.        , 0.        , 0.        , 0.        , 0.        ,\n",
       "        0.        , 0.        , 0.        , 0.        , 0.45168081]])"
      ]
     },
     "execution_count": 35,
     "metadata": {},
     "output_type": "execute_result"
    }
   ],
   "source": [
    "\n"
   ]
  },
  {
   "cell_type": "code",
   "execution_count": 48,
   "id": "257ace98",
   "metadata": {},
   "outputs": [
    {
     "name": "stdout",
     "output_type": "stream",
     "text": [
      "Precision: 1.0\n",
      "Recall: 0.16\n",
      "F1-Score: 0.2758620689655173\n",
      "MAP: 0.16\n"
     ]
    }
   ],
   "source": [
    "# Ground truth relevant job indices (assumed to be the first three job descriptions)\n",
    "relevant_indices = [0,1,2,3,4,5,6,7,8,9,10,11,12,13,14,15,16,17,18,19,20,21,22,23,24]\n",
    "\n",
    "# Function to calculate precision, recall, and F1-score\n",
    "def calculate_precision_recall_f1_score(actual_positives, predicted_positives):\n",
    "    true_positives = len(set(actual_positives) & set(predicted_positives))\n",
    "    precision = true_positives / len(predicted_positives) if len(predicted_positives) > 0 else 0\n",
    "    recall = true_positives / len(actual_positives) if len(actual_positives) > 0 else 0\n",
    "    f1_score = (2 * precision * recall) / (precision + recall) if (precision + recall) > 0 else 0\n",
    "    return precision, recall, f1_score\n",
    "\n",
    "# Function to calculate Mean Average Precision (MAP)\n",
    "def calculate_map(actual_positives, predicted_positives):\n",
    "    average_precision = 0\n",
    "    num_correct_predictions = 0\n",
    "\n",
    "    for i, predicted_job in enumerate(predicted_positives):\n",
    "        if predicted_job in actual_positives:\n",
    "            num_correct_predictions += 1\n",
    "            precision = num_correct_predictions / (i + 1)\n",
    "            average_precision += precision\n",
    "\n",
    "    if not actual_positives:\n",
    "        return 0\n",
    "\n",
    "    return average_precision / len(actual_positives)\n",
    "\n",
    "# List to store the predicted relevant job indices\n",
    "predicted_relevant_indices = [0]\n",
    "\n",
    "# Calculate cosine similarity with keywords for each job description\n",
    "for idx, similarity_score in enumerate(cosine_similarities[0]):\n",
    "    if similarity_score > 0:\n",
    "        predicted_relevant_indices.append(idx)\n",
    "\n",
    "# Evaluate precision, recall, and F1-score\n",
    "precision, recall, f1_score = calculate_precision_recall_f1_score(relevant_indices, predicted_relevant_indices)\n",
    "\n",
    "# Evaluate Mean Average Precision (MAP)\n",
    "map_score = calculate_map(relevant_indices, predicted_relevant_indices)\n",
    "\n",
    "# Print the results\n",
    "print(\"Precision:\", precision)\n",
    "print(\"Recall:\", recall)\n",
    "print(\"F1-Score:\", f1_score)\n",
    "print(\"MAP:\", map_score)\n"
   ]
  },
  {
   "cell_type": "code",
   "execution_count": 33,
   "id": "6f9319d9",
   "metadata": {
    "scrolled": true
   },
   "outputs": [
    {
     "name": "stdout",
     "output_type": "stream",
     "text": [
      "2 0 2\n",
      "Precision: 1.0\n",
      "Recall: 0.5\n"
     ]
    }
   ],
   "source": [
    "# Data sintetis referensi relevansi pekerjaan (misalnya, kita menentukan pekerjaan dengan indeks 2, 3, dan 13 sebagai pekerjaan relevan)\n",
    "synthetic_relevance = [0, 0, 1, 1, 0, 0, 1, 0, 0, 0, 0, 0, 0, 0, 0, 0, 0, 0, 0, 0, 0, 0, 0, 0, 1]\n",
    "\n",
    "# Nilai ambang batas (threshold) untuk relevansi pekerjaan\n",
    "threshold = 0.5\n",
    "\n",
    "# Inisialisasi list untuk menyimpan pekerjaan yang relevan berdasarkan nilai cosine similarity\n",
    "relevant_jobs = []\n",
    "\n",
    "# Loop untuk mencari pekerjaan yang relevan\n",
    "for idx, cosine_sim in enumerate(cosine_similarities[0]):\n",
    "    if cosine_sim > threshold:\n",
    "        relevant_jobs.append(idx)\n",
    "\n",
    "# Precision dan Recall\n",
    "true_positive = len(set(relevant_jobs) & set([i for i, val in enumerate(synthetic_relevance) if val == 1]))\n",
    "false_positive = len(set(relevant_jobs) - set([i for i, val in enumerate(synthetic_relevance) if val == 1]))\n",
    "false_negative = len(set([i for i, val in enumerate(synthetic_relevance) if val == 1]) - set(relevant_jobs))\n",
    "\n",
    "precision = true_positive / (true_positive + false_positive)\n",
    "recall = true_positive / (true_positive + false_negative)\n",
    "\n",
    "print(true_positive, false_positive, false_negative)\n",
    "print(\"Precision:\", precision)\n",
    "print(\"Recall:\", recall)\n"
   ]
  }
 ],
 "metadata": {
  "kernelspec": {
   "display_name": "Python 3 (ipykernel)",
   "language": "python",
   "name": "python3"
  },
  "language_info": {
   "codemirror_mode": {
    "name": "ipython",
    "version": 3
   },
   "file_extension": ".py",
   "mimetype": "text/x-python",
   "name": "python",
   "nbconvert_exporter": "python",
   "pygments_lexer": "ipython3",
   "version": "3.10.5"
  }
 },
 "nbformat": 4,
 "nbformat_minor": 5
}
