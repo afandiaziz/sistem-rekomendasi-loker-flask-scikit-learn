{
 "cells": [
  {
   "cell_type": "code",
   "execution_count": 1,
   "id": "29635e39",
   "metadata": {},
   "outputs": [
    {
     "name": "stderr",
     "output_type": "stream",
     "text": [
      "[nltk_data] Downloading package punkt to\n",
      "[nltk_data]     C:\\Users\\Lenovo\\AppData\\Roaming\\nltk_data...\n",
      "[nltk_data]   Package punkt is already up-to-date!\n",
      "[nltk_data] Downloading package stopwords to\n",
      "[nltk_data]     C:\\Users\\Lenovo\\AppData\\Roaming\\nltk_data...\n",
      "[nltk_data]   Package stopwords is already up-to-date!\n"
     ]
    },
    {
     "data": {
      "text/plain": [
       "True"
      ]
     },
     "execution_count": 1,
     "metadata": {},
     "output_type": "execute_result"
    }
   ],
   "source": [
    "import re\n",
    "import math\n",
    "import nltk\n",
    "import numpy as np\n",
    "import pandas as pd\n",
    "import mysql.connector\n",
    "from datetime import date\n",
    "from html import unescape\n",
    "from nltk.corpus import stopwords\n",
    "from nltk.stem import PorterStemmer\n",
    "from nltk.tokenize import word_tokenize\n",
    "from sklearn.utils.extmath import safe_sparse_dot\n",
    "from sklearn.metrics import pairwise_distances\n",
    "from sklearn.metrics.pairwise import cosine_similarity\n",
    "from sklearn.feature_extraction.text import CountVectorizer\n",
    "from sklearn.feature_extraction.text import TfidfVectorizer\n",
    "from Sastrawi.Stemmer.StemmerFactory import StemmerFactory\n",
    "from Sastrawi.StopWordRemover.StopWordRemoverFactory import StopWordRemoverFactory\n",
    "import os.path\n",
    "\n",
    "nltk.download('punkt')\n",
    "nltk.download('stopwords')"
   ]
  },
  {
   "cell_type": "code",
   "execution_count": 2,
   "id": "e18aa533",
   "metadata": {},
   "outputs": [],
   "source": [
    "def preprocessing(data):\n",
    "    factory = StemmerFactory()\n",
    "    stemmer = factory.create_stemmer()\n",
    "    stopword = StopWordRemoverFactory().create_stop_word_remover()\n",
    "\n",
    "    def cleansing(row):\n",
    "        text = re.sub(r'&[^\\s;&]+;', '', unescape(row['text']))\n",
    "        html_pattern = re.compile('<.*?>')\n",
    "        text = html_pattern.sub(r' ', text)\n",
    "        text = re.sub(\n",
    "            r'((www\\.[^\\s]+)|(https?://[^\\s]+)|(http?://[^\\s]+))', '', text)\n",
    "        return text\n",
    "    \n",
    "    def caseFolding(row):\n",
    "        text = row['text'].lower()\n",
    "        return text\n",
    "\n",
    "    def tokenizing(row):\n",
    "        tokenized = word_tokenize(str(row['text']))\n",
    "        return tokenized\n",
    "\n",
    "    def stemming(row):\n",
    "        stemmed = [stemmer.stem(token) for token in row['text']]\n",
    "        stemmed = \" \".join(stemmed)\n",
    "        return stemmed\n",
    "\n",
    "    def stopwording(row):\n",
    "        stopworded = stopword.remove(row['text'])\n",
    "        return stopworded\n",
    "\n",
    "    data['text'] = data.apply(cleansing, axis=1)\n",
    "    data['text'] = data.apply(caseFolding, axis=1)\n",
    "    data['text'] = data.apply(tokenizing, axis=1)\n",
    "    data['text'] = data.apply(stemming, axis=1)\n",
    "    data['text'] = data.apply(stopwording, axis=1)\n",
    "\n",
    "    return data"
   ]
  },
  {
   "cell_type": "code",
   "execution_count": 3,
   "id": "bd70924b",
   "metadata": {},
   "outputs": [],
   "source": [
    "# init connection\n",
    "connection = mysql.connector.connect(\n",
    "    host=\"localhost\",\n",
    "    user=\"root\",\n",
    "    password=\"\",\n",
    "    database=\"bkk\"\n",
    ")"
   ]
  },
  {
   "cell_type": "code",
   "execution_count": 4,
   "id": "6043b073",
   "metadata": {},
   "outputs": [],
   "source": [
    "sql = \"select `vacancies`.*, (select count(*) from `applicants` where `vacancies`.`id` = `applicants`.`vacancy_id` and `verified` = '1' and `applicants`.`deleted_at` is null) as `applicants_count` from `vacancies` where `deadline` >= '2023-07-21' and `status` = '1' and (`max_applicants` is null and exists (select * from `companies` where `vacancies`.`company_id` = `companies`.`id` and `status` = '1' and `companies`.`deleted_at` is null) or `max_applicants` is not null and (select count(*) from `applicants` where `vacancies`.`id` = `applicants`.`vacancy_id` and `verified` = 1 and `applicants`.`deleted_at` is null) < max_applicants) and `preprocessed_text_id` is not null and exists (select * from `companies` where `vacancies`.`company_id` = `companies`.`id` and `logo` is not null and `companies`.`deleted_at` is null) and not exists (select * from `applicants` where `vacancies`.`id` = `applicants`.`vacancy_id` and `user_id` = '423d6a0f-c2b5-46d2-92ed-39ade4efa021' and `applicants`.`deleted_at` is null) and not exists (select * from `notified_vacancies` where `vacancies`.`id` = `notified_vacancies`.`vacancy_id` and `user_id` = '423d6a0f-c2b5-46d2-92ed-39ade4efa021') and `vacancies`.`deleted_at` is null order by `deadline` desc, `updated_at` desc\"\n",
    "itemPerPage = 5\n",
    "page = 1\n",
    "# minWeight = 0.15\n",
    "keyword = \"UI/UX\"\n",
    "pd.set_option('display.max_rows', None)\n",
    "pd.set_option('display.max_columns', None)\n",
    "pd.set_option('display.max_colwidth', None) "
   ]
  },
  {
   "cell_type": "code",
   "execution_count": 5,
   "id": "4df9fa53",
   "metadata": {},
   "outputs": [
    {
     "data": {
      "text/html": [
       "<div>\n",
       "<style scoped>\n",
       "    .dataframe tbody tr th:only-of-type {\n",
       "        vertical-align: middle;\n",
       "    }\n",
       "\n",
       "    .dataframe tbody tr th {\n",
       "        vertical-align: top;\n",
       "    }\n",
       "\n",
       "    .dataframe thead th {\n",
       "        text-align: right;\n",
       "    }\n",
       "</style>\n",
       "<table border=\"1\" class=\"dataframe\">\n",
       "  <thead>\n",
       "    <tr style=\"text-align: right;\">\n",
       "      <th></th>\n",
       "      <th>id</th>\n",
       "      <th>text</th>\n",
       "    </tr>\n",
       "  </thead>\n",
       "  <tbody>\n",
       "    <tr>\n",
       "      <th>1</th>\n",
       "      <td>2b0127cc-be54-40cd-890c-0847d0698876</td>\n",
       "      <td>ui ux cari ui ux designer kreatif alam</td>\n",
       "    </tr>\n",
       "    <tr>\n",
       "      <th>2</th>\n",
       "      <td>0fa1e1ae-23b6-4e3d-9e06-0f635fd4f3ee</td>\n",
       "      <td>ui ux researcher butuh ui ux researcher kumpul analis data</td>\n",
       "    </tr>\n",
       "    <tr>\n",
       "      <th>3</th>\n",
       "      <td>07c592cc-1770-46ca-9885-e37ee88dd9ac</td>\n",
       "      <td>ui ux designer cari ui ux designer alam startup</td>\n",
       "    </tr>\n",
       "  </tbody>\n",
       "</table>\n",
       "</div>"
      ],
      "text/plain": [
       "                                     id  \\\n",
       "1  2b0127cc-be54-40cd-890c-0847d0698876   \n",
       "2  0fa1e1ae-23b6-4e3d-9e06-0f635fd4f3ee   \n",
       "3  07c592cc-1770-46ca-9885-e37ee88dd9ac   \n",
       "\n",
       "                                                         text  \n",
       "1                     ui ux cari ui ux designer kreatif alam   \n",
       "2  ui ux researcher butuh ui ux researcher kumpul analis data  \n",
       "3             ui ux designer cari ui ux designer alam startup  "
      ]
     },
     "execution_count": 5,
     "metadata": {},
     "output_type": "execute_result"
    }
   ],
   "source": [
    "#obtaining\n",
    "cursor = connection.cursor()\n",
    "cursor.execute(sql)\n",
    "vacancies = []\n",
    "for vacancy in cursor.fetchall():\n",
    "    # vacancy[0] is id\n",
    "    # vacancy[2] is preprocessed data\n",
    "    vacancies.append([vacancy[0], vacancy[5]])\n",
    "\n",
    "\n",
    "dframeKeyword = pd.DataFrame([keyword], columns=[\"text\"])\n",
    "dframeVacancies = pd.DataFrame(vacancies, columns=[\"id\", \"text\"], index=range(1, len(vacancies) + 1))\n",
    "dframeVacancies = dframeVacancies.dropna()\n",
    "\n",
    "dframeVacancies"
   ]
  },
  {
   "cell_type": "code",
   "execution_count": 64,
   "id": "6aac53f9",
   "metadata": {},
   "outputs": [
    {
     "name": "stdout",
     "output_type": "stream",
     "text": [
      "{0: [0.28768207245178085, 0.0, 0.0, 0.28768207245178085, 0.0, 0.28768207245178085, 0.6931471805599453, 0.0, 0.0, 0.0, 0.0, 0.0], 1: [0.0, 0.6931471805599453, 0.6931471805599453, 0.0, 0.6931471805599453, 0.0, 0.0, 0.6931471805599453, 1.3862943611198906, 0.0, 0.0, 0.0], 2: [0.28768207245178085, 0.0, 0.0, 0.28768207245178085, 0.0, 0.5753641449035617, 0.0, 0.0, 0.0, 0.6931471805599453, 0.0, 0.0]}\n",
      "{0: [0.28768207245178085, 0.0, 0.0, 0.28768207245178085, 0.0, 0.28768207245178085, 0.6931471805599453, 0.0, 0.0, 0.0, 0.0, 0.0], 1: [0.0, 0.6931471805599453, 0.6931471805599453, 0.0, 0.6931471805599453, 0.0, 0.0, 0.6931471805599453, 1.3862943611198906, 0.0, 0.0, 0.0], 2: [0.28768207245178085, 0.0, 0.0, 0.28768207245178085, 0.0, 0.5753641449035617, 0.0, 0.0, 0.0, 0.6931471805599453, 0.0, 0.0]}\n"
     ]
    }
   ],
   "source": [
    "keyword = preprocessing(dframeKeyword)\n",
    "\n",
    "vectorizer = TfidfVectorizer(smooth_idf=False)\n",
    "tfidf_matrix = vectorizer.fit_transform(dframeVacancies['text'])\n",
    "new_tfidf_vector = vectorizer.transform(keyword[\"text\"])\n",
    "\n",
    "vectorizerWithoutNorm = TfidfVectorizer(norm=None)\n",
    "tfidf_matrixWithoutNorm = vectorizerWithoutNorm.fit_transform(dframeVacancies['text'])\n",
    "new_tfidf_vectorWithoutNorm = vectorizerWithoutNorm.transform(keyword[\"text\"])\n",
    "\n",
    "\n",
    "countVectorizer = CountVectorizer()\n",
    "tf = countVectorizer.fit_transform(dframeVacancies['text'])\n",
    "tf_keyword = countVectorizer.transform(keyword[\"text\"])\n",
    "\n",
    "document_frequencies = tfidf_matrix.astype(bool).sum(axis=0).A1\n",
    "words = vectorizer.get_feature_names_out()\n",
    "idf_values = vectorizer.idf_\n",
    "\n",
    "document_frequenciesWithoutNorm = tfidf_matrixWithoutNorm.astype(bool).sum(axis=0).A1\n",
    "wordsWithoutNorm = vectorizerWithoutNorm.get_feature_names_out()\n",
    "idf_valuesWithoutNorm = vectorizerWithoutNorm.idf_\n",
    "\n",
    "\n",
    "\n",
    "\n",
    "save_tfidf = {}\n",
    "for index_doc, doc in enumerate(tf.toarray()):\n",
    "    save_tfidf[index_doc] = []\n",
    "    for index_tf_doc, tf_doc in enumerate(doc):\n",
    "        idfnya = math.log((1 + len(vacancies)) / (document_frequenciesWithoutNorm[index_tf_doc] + 1))\n",
    "        save_tfidf[index_doc].append(tf_doc * idfnya)\n",
    "            \n",
    "print(save_tfidf)\n",
    "\n",
    "save_tfidf = {}\n",
    "for index_doc, doc in enumerate(tf.toarray()):\n",
    "    save_tfidf[index_doc] = []\n",
    "    for index_tf_doc, tf_doc in enumerate(doc):\n",
    "        idfnya = math.log((1 + len(vacancies)) / (document_frequenciesWithoutNorm[index_tf_doc] + 1))\n",
    "        save_tfidf[index_doc].append(tf_doc * idfnya)\n",
    "            \n",
    "print(save_tfidf)\n",
    "\n",
    "\n"
   ]
  },
  {
   "cell_type": "code",
   "execution_count": 65,
   "id": "d9752811",
   "metadata": {},
   "outputs": [
    {
     "name": "stdout",
     "output_type": "stream",
     "text": [
      "Jumlah dokumen dengan dan tanpa Norm L2: 3\n",
      "Jumlah terms dengan dan tanpa Norm L2: 12\n"
     ]
    }
   ],
   "source": [
    "print('Jumlah dokumen dengan dan tanpa Norm L2:', tf.shape[0])\n",
    "print('Jumlah terms dengan dan tanpa Norm L2:', tf.shape[1])\n",
    "#print('Daftar Term dengan dan tanpa Norm L2:', countVectorizer.get_feature_names_out())\n",
    "\n",
    "terms_dframe_output = pd.DataFrame(countVectorizer.get_feature_names_out(), columns=[\"terms\"])\n",
    "\n",
    "if os.path.isfile('./termsx.xlsx'):\n",
    "    existing_df = pd.read_excel('termsx.xlsx')\n",
    "    existing_df = terms_dframe_output\n",
    "    existing_df.to_excel('termsx.xlsx', index=True)\n",
    "else:\n",
    "    terms_dframe_output.to_excel('termsx.xlsx', index=True)\n",
    "    \n",
    "pd.set_option('display.max_rows', 10)\n",
    "pd.set_option('display.max_columns', 20)\n",
    "\n",
    "#terms_dframe_output"
   ]
  },
  {
   "cell_type": "code",
   "execution_count": 66,
   "id": "c8ce9532",
   "metadata": {},
   "outputs": [
    {
     "data": {
      "text/plain": [
       "['alam',\n",
       " 'analis',\n",
       " 'butuh',\n",
       " 'cari',\n",
       " 'data',\n",
       " 'designer',\n",
       " 'kreatif',\n",
       " 'kumpul',\n",
       " 'researcher',\n",
       " 'startup',\n",
       " 'ui',\n",
       " 'ux']"
      ]
     },
     "execution_count": 66,
     "metadata": {},
     "output_type": "execute_result"
    }
   ],
   "source": [
    "save_terms = []\n",
    "for term in countVectorizer.get_feature_names_out():\n",
    "    save_terms.append(term)\n",
    "    \n",
    "save_terms"
   ]
  },
  {
   "cell_type": "code",
   "execution_count": 67,
   "id": "232a8b64",
   "metadata": {},
   "outputs": [
    {
     "name": "stdout",
     "output_type": "stream",
     "text": [
      "Matriks TF dengan dan tanpa Norm L2:\n"
     ]
    }
   ],
   "source": [
    "print('Matriks TF dengan dan tanpa Norm L2:')\n",
    "tf_dframe_output = pd.DataFrame(tf.toarray(), columns=countVectorizer.get_feature_names_out(), index=range(1, len(tf.toarray()) + 1))\n",
    "\n",
    "if os.path.isfile('./tf.xlsx'):\n",
    "    existing_df = pd.read_excel('tf.xlsx')\n",
    "    existing_df = tf_dframe_output\n",
    "    existing_df.to_excel('tf.xlsx', index=True)\n",
    "else:\n",
    "    tf_dframe_output.to_excel('tf.xlsx', index=True)\n",
    "\n",
    "pd.set_option('display.max_rows', None)\n",
    "pd.set_option('display.max_columns', 20)"
   ]
  },
  {
   "cell_type": "code",
   "execution_count": 68,
   "id": "5e7f17f6",
   "metadata": {},
   "outputs": [
    {
     "data": {
      "text/plain": [
       "[array([1, 0, 0, 1, 0, 1, 1, 0, 0, 0, 2, 2], dtype=int64),\n",
       " array([0, 1, 1, 0, 1, 0, 0, 1, 2, 0, 2, 2], dtype=int64),\n",
       " array([1, 0, 0, 1, 0, 2, 0, 0, 0, 1, 2, 2], dtype=int64)]"
      ]
     },
     "execution_count": 68,
     "metadata": {},
     "output_type": "execute_result"
    }
   ],
   "source": [
    "save_tf = []\n",
    "for tf in tf.toarray():\n",
    "    save_tf.append(tf)\n",
    "    \n",
    "save_tf"
   ]
  },
  {
   "cell_type": "code",
   "execution_count": 69,
   "id": "568c5aa9",
   "metadata": {},
   "outputs": [
    {
     "data": {
      "text/plain": [
       "array([2, 1, 1, 2, 1, 2, 1, 1, 1, 1, 3, 3], dtype=int32)"
      ]
     },
     "execution_count": 69,
     "metadata": {},
     "output_type": "execute_result"
    }
   ],
   "source": [
    "document_frequenciesWithoutNorm"
   ]
  },
  {
   "cell_type": "code",
   "execution_count": 70,
   "id": "5be808fb",
   "metadata": {},
   "outputs": [
    {
     "data": {
      "text/plain": [
       "[0.0,\n",
       " 0.4054651081081644,\n",
       " 0.4054651081081644,\n",
       " 0.0,\n",
       " 0.4054651081081644,\n",
       " 0.0,\n",
       " 0.4054651081081644,\n",
       " 0.4054651081081644,\n",
       " 0.4054651081081644,\n",
       " 0.4054651081081644,\n",
       " -0.2876820724517809,\n",
       " -0.2876820724517809]"
      ]
     },
     "execution_count": 70,
     "metadata": {},
     "output_type": "execute_result"
    }
   ],
   "source": [
    "save_idf = []\n",
    "for index, df in enumerate(document_frequenciesWithoutNorm):\n",
    "    save_idf.append(np.log(len(vacancies) / (df + 1)))\n",
    "    \n",
    "save_idf"
   ]
  },
  {
   "cell_type": "markdown",
   "id": "2e6b81f1",
   "metadata": {},
   "source": [
    "dframeWords = pd.DataFrame(words, columns=[\"Term\"])\n",
    "dframeDF = pd.DataFrame(document_frequencies, columns=[\"DF\"])\n",
    "dframeIDF = pd.DataFrame(idf_values, columns=[\"IDF\"])\n",
    "pd.concat([dframeWords, dframeDF, dframeIDF], axis=1, join='inner')\n"
   ]
  },
  {
   "cell_type": "code",
   "execution_count": 71,
   "id": "4ce2fde3",
   "metadata": {},
   "outputs": [
    {
     "data": {
      "text/html": [
       "<div>\n",
       "<style scoped>\n",
       "    .dataframe tbody tr th:only-of-type {\n",
       "        vertical-align: middle;\n",
       "    }\n",
       "\n",
       "    .dataframe tbody tr th {\n",
       "        vertical-align: top;\n",
       "    }\n",
       "\n",
       "    .dataframe thead th {\n",
       "        text-align: right;\n",
       "    }\n",
       "</style>\n",
       "<table border=\"1\" class=\"dataframe\">\n",
       "  <thead>\n",
       "    <tr style=\"text-align: right;\">\n",
       "      <th></th>\n",
       "      <th>Terms</th>\n",
       "      <th>DF</th>\n",
       "      <th>IDF</th>\n",
       "    </tr>\n",
       "  </thead>\n",
       "  <tbody>\n",
       "    <tr>\n",
       "      <th>0</th>\n",
       "      <td>alam</td>\n",
       "      <td>2</td>\n",
       "      <td>1.287682</td>\n",
       "    </tr>\n",
       "    <tr>\n",
       "      <th>1</th>\n",
       "      <td>analis</td>\n",
       "      <td>1</td>\n",
       "      <td>1.693147</td>\n",
       "    </tr>\n",
       "    <tr>\n",
       "      <th>2</th>\n",
       "      <td>butuh</td>\n",
       "      <td>1</td>\n",
       "      <td>1.693147</td>\n",
       "    </tr>\n",
       "    <tr>\n",
       "      <th>3</th>\n",
       "      <td>cari</td>\n",
       "      <td>2</td>\n",
       "      <td>1.287682</td>\n",
       "    </tr>\n",
       "    <tr>\n",
       "      <th>4</th>\n",
       "      <td>data</td>\n",
       "      <td>1</td>\n",
       "      <td>1.693147</td>\n",
       "    </tr>\n",
       "    <tr>\n",
       "      <th>5</th>\n",
       "      <td>designer</td>\n",
       "      <td>2</td>\n",
       "      <td>1.287682</td>\n",
       "    </tr>\n",
       "    <tr>\n",
       "      <th>6</th>\n",
       "      <td>kreatif</td>\n",
       "      <td>1</td>\n",
       "      <td>1.693147</td>\n",
       "    </tr>\n",
       "    <tr>\n",
       "      <th>7</th>\n",
       "      <td>kumpul</td>\n",
       "      <td>1</td>\n",
       "      <td>1.693147</td>\n",
       "    </tr>\n",
       "    <tr>\n",
       "      <th>8</th>\n",
       "      <td>researcher</td>\n",
       "      <td>1</td>\n",
       "      <td>1.693147</td>\n",
       "    </tr>\n",
       "    <tr>\n",
       "      <th>9</th>\n",
       "      <td>startup</td>\n",
       "      <td>1</td>\n",
       "      <td>1.693147</td>\n",
       "    </tr>\n",
       "    <tr>\n",
       "      <th>10</th>\n",
       "      <td>ui</td>\n",
       "      <td>3</td>\n",
       "      <td>1.000000</td>\n",
       "    </tr>\n",
       "    <tr>\n",
       "      <th>11</th>\n",
       "      <td>ux</td>\n",
       "      <td>3</td>\n",
       "      <td>1.000000</td>\n",
       "    </tr>\n",
       "  </tbody>\n",
       "</table>\n",
       "</div>"
      ],
      "text/plain": [
       "         Terms  DF       IDF\n",
       "0         alam   2  1.287682\n",
       "1       analis   1  1.693147\n",
       "2        butuh   1  1.693147\n",
       "3         cari   2  1.287682\n",
       "4         data   1  1.693147\n",
       "5     designer   2  1.287682\n",
       "6      kreatif   1  1.693147\n",
       "7       kumpul   1  1.693147\n",
       "8   researcher   1  1.693147\n",
       "9      startup   1  1.693147\n",
       "10          ui   3  1.000000\n",
       "11          ux   3  1.000000"
      ]
     },
     "execution_count": 71,
     "metadata": {},
     "output_type": "execute_result"
    }
   ],
   "source": [
    "pd.set_option('display.max_rows', 50)\n",
    "pd.set_option('display.max_columns', 20)\n",
    "\n",
    "dframeWordsWithoutNorm = pd.DataFrame(wordsWithoutNorm, columns=[\"Terms\"])\n",
    "dframeDFWithoutNorm = pd.DataFrame(document_frequenciesWithoutNorm, columns=[\"DF\"])\n",
    "dframeIDFWithoutNorm = pd.DataFrame(idf_valuesWithoutNorm, columns=[\"IDF\"])\n",
    "dfidf_dframe_output = pd.concat([dframeWordsWithoutNorm, dframeDFWithoutNorm, dframeIDFWithoutNorm], axis=1, join='inner')\n",
    "\n",
    "if os.path.isfile('./DF-IDF.xlsx'):\n",
    "    existing_df = pd.read_excel('DF-IDF.xlsx')\n",
    "    existing_df = dfidf_dframe_output\n",
    "    existing_df.to_excel('DF-IDF.xlsx', index=True)\n",
    "else:\n",
    "    dfidf_dframe_output.to_excel('DF-IDF.xlsx', index=True)\n",
    "\n",
    "dfidf_dframe_output"
   ]
  },
  {
   "cell_type": "code",
   "execution_count": 72,
   "id": "c27c9cea",
   "metadata": {},
   "outputs": [
    {
     "name": "stdout",
     "output_type": "stream",
     "text": [
      "TFIDF tanpa Norm L2:\n"
     ]
    },
    {
     "data": {
      "text/html": [
       "<div>\n",
       "<style scoped>\n",
       "    .dataframe tbody tr th:only-of-type {\n",
       "        vertical-align: middle;\n",
       "    }\n",
       "\n",
       "    .dataframe tbody tr th {\n",
       "        vertical-align: top;\n",
       "    }\n",
       "\n",
       "    .dataframe thead th {\n",
       "        text-align: right;\n",
       "    }\n",
       "</style>\n",
       "<table border=\"1\" class=\"dataframe\">\n",
       "  <thead>\n",
       "    <tr style=\"text-align: right;\">\n",
       "      <th></th>\n",
       "      <th>alam</th>\n",
       "      <th>analis</th>\n",
       "      <th>butuh</th>\n",
       "      <th>cari</th>\n",
       "      <th>data</th>\n",
       "      <th>designer</th>\n",
       "      <th>kreatif</th>\n",
       "      <th>kumpul</th>\n",
       "      <th>researcher</th>\n",
       "      <th>startup</th>\n",
       "      <th>ui</th>\n",
       "      <th>ux</th>\n",
       "    </tr>\n",
       "  </thead>\n",
       "  <tbody>\n",
       "    <tr>\n",
       "      <th>0</th>\n",
       "      <td>1.287682</td>\n",
       "      <td>0.000000</td>\n",
       "      <td>0.000000</td>\n",
       "      <td>1.287682</td>\n",
       "      <td>0.000000</td>\n",
       "      <td>1.287682</td>\n",
       "      <td>1.693147</td>\n",
       "      <td>0.000000</td>\n",
       "      <td>0.000000</td>\n",
       "      <td>0.000000</td>\n",
       "      <td>2.0</td>\n",
       "      <td>2.0</td>\n",
       "    </tr>\n",
       "    <tr>\n",
       "      <th>1</th>\n",
       "      <td>0.000000</td>\n",
       "      <td>1.693147</td>\n",
       "      <td>1.693147</td>\n",
       "      <td>0.000000</td>\n",
       "      <td>1.693147</td>\n",
       "      <td>0.000000</td>\n",
       "      <td>0.000000</td>\n",
       "      <td>1.693147</td>\n",
       "      <td>3.386294</td>\n",
       "      <td>0.000000</td>\n",
       "      <td>2.0</td>\n",
       "      <td>2.0</td>\n",
       "    </tr>\n",
       "    <tr>\n",
       "      <th>2</th>\n",
       "      <td>1.287682</td>\n",
       "      <td>0.000000</td>\n",
       "      <td>0.000000</td>\n",
       "      <td>1.287682</td>\n",
       "      <td>0.000000</td>\n",
       "      <td>2.575364</td>\n",
       "      <td>0.000000</td>\n",
       "      <td>0.000000</td>\n",
       "      <td>0.000000</td>\n",
       "      <td>1.693147</td>\n",
       "      <td>2.0</td>\n",
       "      <td>2.0</td>\n",
       "    </tr>\n",
       "  </tbody>\n",
       "</table>\n",
       "</div>"
      ],
      "text/plain": [
       "       alam    analis     butuh      cari      data  designer   kreatif  \\\n",
       "0  1.287682  0.000000  0.000000  1.287682  0.000000  1.287682  1.693147   \n",
       "1  0.000000  1.693147  1.693147  0.000000  1.693147  0.000000  0.000000   \n",
       "2  1.287682  0.000000  0.000000  1.287682  0.000000  2.575364  0.000000   \n",
       "\n",
       "     kumpul  researcher   startup   ui   ux  \n",
       "0  0.000000    0.000000  0.000000  2.0  2.0  \n",
       "1  1.693147    3.386294  0.000000  2.0  2.0  \n",
       "2  0.000000    0.000000  1.693147  2.0  2.0  "
      ]
     },
     "execution_count": 72,
     "metadata": {},
     "output_type": "execute_result"
    }
   ],
   "source": [
    "print('TFIDF tanpa Norm L2:')\n",
    "\n",
    "pd.set_option('display.max_rows', None)\n",
    "pd.set_option('display.max_columns', 15)\n",
    "tfidf_dframe_output = pd.DataFrame(tfidf_matrixWithoutNorm.toarray(), columns=vectorizerWithoutNorm.get_feature_names_out())\n",
    "\n",
    "if os.path.isfile('./tfidf.xlsx'):\n",
    "    existing_df = pd.read_excel('tfidf.xlsx')\n",
    "    existing_df = tfidf_dframe_output\n",
    "    existing_df.to_excel('tfidf.xlsx', index=True)\n",
    "else:\n",
    "    tfidf_dframe_output.to_excel('tfidf.xlsx', index=True)\n",
    "\n",
    "tfidf_dframe_output"
   ]
  },
  {
   "cell_type": "code",
   "execution_count": 73,
   "id": "289b6db9",
   "metadata": {},
   "outputs": [
    {
     "name": "stdout",
     "output_type": "stream",
     "text": [
      "TFIDF dengan Norm L2:\n"
     ]
    },
    {
     "data": {
      "text/html": [
       "<div>\n",
       "<style scoped>\n",
       "    .dataframe tbody tr th:only-of-type {\n",
       "        vertical-align: middle;\n",
       "    }\n",
       "\n",
       "    .dataframe tbody tr th {\n",
       "        vertical-align: top;\n",
       "    }\n",
       "\n",
       "    .dataframe thead th {\n",
       "        text-align: right;\n",
       "    }\n",
       "</style>\n",
       "<table border=\"1\" class=\"dataframe\">\n",
       "  <thead>\n",
       "    <tr style=\"text-align: right;\">\n",
       "      <th></th>\n",
       "      <th>alam</th>\n",
       "      <th>analis</th>\n",
       "      <th>butuh</th>\n",
       "      <th>cari</th>\n",
       "      <th>data</th>\n",
       "      <th>designer</th>\n",
       "      <th>kreatif</th>\n",
       "      <th>kumpul</th>\n",
       "      <th>researcher</th>\n",
       "      <th>startup</th>\n",
       "      <th>ui</th>\n",
       "      <th>ux</th>\n",
       "    </tr>\n",
       "  </thead>\n",
       "  <tbody>\n",
       "    <tr>\n",
       "      <th>0</th>\n",
       "      <td>0.328274</td>\n",
       "      <td>0.00000</td>\n",
       "      <td>0.00000</td>\n",
       "      <td>0.328274</td>\n",
       "      <td>0.00000</td>\n",
       "      <td>0.328274</td>\n",
       "      <td>0.490173</td>\n",
       "      <td>0.00000</td>\n",
       "      <td>0.000000</td>\n",
       "      <td>0.000000</td>\n",
       "      <td>0.467140</td>\n",
       "      <td>0.467140</td>\n",
       "    </tr>\n",
       "    <tr>\n",
       "      <th>1</th>\n",
       "      <td>0.000000</td>\n",
       "      <td>0.31917</td>\n",
       "      <td>0.31917</td>\n",
       "      <td>0.000000</td>\n",
       "      <td>0.31917</td>\n",
       "      <td>0.000000</td>\n",
       "      <td>0.000000</td>\n",
       "      <td>0.31917</td>\n",
       "      <td>0.638341</td>\n",
       "      <td>0.000000</td>\n",
       "      <td>0.304173</td>\n",
       "      <td>0.304173</td>\n",
       "    </tr>\n",
       "    <tr>\n",
       "      <th>2</th>\n",
       "      <td>0.285370</td>\n",
       "      <td>0.00000</td>\n",
       "      <td>0.00000</td>\n",
       "      <td>0.285370</td>\n",
       "      <td>0.00000</td>\n",
       "      <td>0.570741</td>\n",
       "      <td>0.000000</td>\n",
       "      <td>0.00000</td>\n",
       "      <td>0.000000</td>\n",
       "      <td>0.426109</td>\n",
       "      <td>0.406087</td>\n",
       "      <td>0.406087</td>\n",
       "    </tr>\n",
       "  </tbody>\n",
       "</table>\n",
       "</div>"
      ],
      "text/plain": [
       "       alam   analis    butuh      cari     data  designer   kreatif   kumpul  \\\n",
       "0  0.328274  0.00000  0.00000  0.328274  0.00000  0.328274  0.490173  0.00000   \n",
       "1  0.000000  0.31917  0.31917  0.000000  0.31917  0.000000  0.000000  0.31917   \n",
       "2  0.285370  0.00000  0.00000  0.285370  0.00000  0.570741  0.000000  0.00000   \n",
       "\n",
       "   researcher   startup        ui        ux  \n",
       "0    0.000000  0.000000  0.467140  0.467140  \n",
       "1    0.638341  0.000000  0.304173  0.304173  \n",
       "2    0.000000  0.426109  0.406087  0.406087  "
      ]
     },
     "execution_count": 73,
     "metadata": {},
     "output_type": "execute_result"
    }
   ],
   "source": [
    "print('TFIDF dengan Norm L2:')\n",
    "tfidfWithNormL2_dframe_output = pd.DataFrame(tfidf_matrix.toarray(), columns=vectorizer.get_feature_names_out())\n",
    "\n",
    "if os.path.isfile('./tfidf-norm.xlsx'):\n",
    "    existing_df = pd.read_excel('tfidf-norm.xlsx')\n",
    "    existing_df = tfidfWithNormL2_dframe_output\n",
    "    existing_df.to_excel('tfidf-norm.xlsx', index=True)\n",
    "else:\n",
    "    tfidfWithNormL2_dframe_output.to_excel('tfidf-norm.xlsx', index=True)\n",
    "\n",
    "tfidfWithNormL2_dframe_output"
   ]
  },
  {
   "cell_type": "code",
   "execution_count": 81,
   "id": "a18f4aa7",
   "metadata": {},
   "outputs": [
    {
     "data": {
      "text/plain": [
       "array([[1.        , 0.28418235, 0.75411761],\n",
       "       [0.28418235, 1.        , 0.24704113],\n",
       "       [0.75411761, 0.24704113, 1.        ]])"
      ]
     },
     "execution_count": 81,
     "metadata": {},
     "output_type": "execute_result"
    }
   ],
   "source": [
    "similarity_scores = cosine_similarity(tfidf_matrix)\n",
    "\n",
    "vacanciesWeighted = similarity_scores[0]                                                                                                                                                                                                                                                                                                                                                                                                                                                                                                                                                                                                                                                                                                                                                                                                                                                             \n",
    "sortedIndexVacancies = vacanciesWeighted.argsort()[::-1]\n",
    "\n",
    "similarity_scores"
   ]
  },
  {
   "cell_type": "code",
   "execution_count": 26,
   "id": "6b7519a8",
   "metadata": {},
   "outputs": [
    {
     "data": {
      "text/plain": [
       "array([[0.7607314 ],\n",
       "       [0.99142088],\n",
       "       [0.87184545]])"
      ]
     },
     "execution_count": 26,
     "metadata": {},
     "output_type": "execute_result"
    }
   ],
   "source": [
    "similarity_scores = pairwise_distances(tfidf_matrix, new_tfidf_vector, metric=\"euclidean\")\n",
    "\n",
    "#vacanciesWeighted = similarity_scores[0]                                                                                                                                                                                                                                                                                                                                                                                                                                                                                                                                                                                                                                                                                                                                                                                                                                                             \n",
    "#sortedIndexVacancies = vacanciesWeighted.argsort()[::-1]\n",
    "\n",
    "similarity_scores"
   ]
  },
  {
   "cell_type": "code",
   "execution_count": 52,
   "id": "c84dda57",
   "metadata": {},
   "outputs": [
    {
     "ename": "ValueError",
     "evalue": "shapes (3,12) and (1,12) not aligned: 12 (dim 1) != 1 (dim 0)",
     "output_type": "error",
     "traceback": [
      "\u001b[1;31m---------------------------------------------------------------------------\u001b[0m",
      "\u001b[1;31mValueError\u001b[0m                                Traceback (most recent call last)",
      "Cell \u001b[1;32mIn[52], line 1\u001b[0m\n\u001b[1;32m----> 1\u001b[0m dot_product \u001b[38;5;241m=\u001b[39m \u001b[43mnp\u001b[49m\u001b[38;5;241;43m.\u001b[39;49m\u001b[43mdot\u001b[49m\u001b[43m(\u001b[49m\u001b[43mtfidf_matrix\u001b[49m\u001b[38;5;241;43m.\u001b[39;49m\u001b[43mtoarray\u001b[49m\u001b[43m(\u001b[49m\u001b[43m)\u001b[49m\u001b[43m,\u001b[49m\u001b[43m \u001b[49m\u001b[43mnew_tfidf_vector\u001b[49m\u001b[38;5;241;43m.\u001b[39;49m\u001b[43mtoarray\u001b[49m\u001b[43m(\u001b[49m\u001b[43m)\u001b[49m\u001b[43m)\u001b[49m\n\u001b[0;32m      2\u001b[0m norm_vector1 \u001b[38;5;241m=\u001b[39m np\u001b[38;5;241m.\u001b[39mlinalg\u001b[38;5;241m.\u001b[39mnorm(new_tfidf_vector)\n\u001b[0;32m      3\u001b[0m norm_vector2 \u001b[38;5;241m=\u001b[39m np\u001b[38;5;241m.\u001b[39mlinalg\u001b[38;5;241m.\u001b[39mnorm(tfidf_matrix)\n",
      "\u001b[1;31mValueError\u001b[0m: shapes (3,12) and (1,12) not aligned: 12 (dim 1) != 1 (dim 0)"
     ]
    }
   ],
   "source": [
    "dot_product = np.dot(tfidf_matrix.toarray(), new_tfidf_vector.toarray())\n",
    "norm_vector1 = np.linalg.norm(new_tfidf_vector)\n",
    "norm_vector2 = np.linalg.norm(tfidf_matrix)\n",
    "similarity = dot_product / (norm_vector1 * norm_vector2)\n",
    "\n",
    "dot_product"
   ]
  },
  {
   "cell_type": "code",
   "execution_count": 56,
   "id": "f44a188f",
   "metadata": {},
   "outputs": [
    {
     "ename": "ValueError",
     "evalue": "shapes (1,12) and (3,12) not aligned: 12 (dim 1) != 3 (dim 0)",
     "output_type": "error",
     "traceback": [
      "\u001b[1;31m---------------------------------------------------------------------------\u001b[0m",
      "\u001b[1;31mValueError\u001b[0m                                Traceback (most recent call last)",
      "Cell \u001b[1;32mIn[56], line 3\u001b[0m\n\u001b[0;32m      1\u001b[0m tfidf_array \u001b[38;5;241m=\u001b[39m tfidf_matrix\u001b[38;5;241m.\u001b[39mtoarray()\n\u001b[0;32m      2\u001b[0m query_vector \u001b[38;5;241m=\u001b[39m new_tfidf_vector\u001b[38;5;241m.\u001b[39mtoarray()\n\u001b[1;32m----> 3\u001b[0m dot_product \u001b[38;5;241m=\u001b[39m \u001b[43mnp\u001b[49m\u001b[38;5;241;43m.\u001b[39;49m\u001b[43mdot\u001b[49m\u001b[43m(\u001b[49m\u001b[43mquery_vector\u001b[49m\u001b[43m,\u001b[49m\u001b[43m \u001b[49m\u001b[43mtfidf_array\u001b[49m\u001b[43m)\u001b[49m\n",
      "\u001b[1;31mValueError\u001b[0m: shapes (1,12) and (3,12) not aligned: 12 (dim 1) != 3 (dim 0)"
     ]
    }
   ],
   "source": [
    "tfidf_array = tfidf_matrix.toarray()\n",
    "query_vector = new_tfidf_vector.toarray()\n",
    "dot_product = np.dot(query_vector, tfidf_array)"
   ]
  },
  {
   "cell_type": "code",
   "execution_count": 50,
   "id": "010d8cfc",
   "metadata": {},
   "outputs": [
    {
     "ename": "ValueError",
     "evalue": "Input vector should be 1-D.",
     "output_type": "error",
     "traceback": [
      "\u001b[1;31m---------------------------------------------------------------------------\u001b[0m",
      "\u001b[1;31mValueError\u001b[0m                                Traceback (most recent call last)",
      "Cell \u001b[1;32mIn[50], line 5\u001b[0m\n\u001b[0;32m      2\u001b[0m tfidf_array \u001b[38;5;241m=\u001b[39m tfidf_matrix\u001b[38;5;241m.\u001b[39mtoarray()\n\u001b[0;32m      3\u001b[0m query_vector \u001b[38;5;241m=\u001b[39m new_tfidf_vector\u001b[38;5;241m.\u001b[39mtoarray()\n\u001b[1;32m----> 5\u001b[0m cosine_similarities \u001b[38;5;241m=\u001b[39m [\u001b[38;5;241m1\u001b[39m \u001b[38;5;241m-\u001b[39m cosine(query_vector, doc_vector) \u001b[38;5;28;01mfor\u001b[39;00m doc_vector \u001b[38;5;129;01min\u001b[39;00m tfidf_array]\n",
      "Cell \u001b[1;32mIn[50], line 5\u001b[0m, in \u001b[0;36m<listcomp>\u001b[1;34m(.0)\u001b[0m\n\u001b[0;32m      2\u001b[0m tfidf_array \u001b[38;5;241m=\u001b[39m tfidf_matrix\u001b[38;5;241m.\u001b[39mtoarray()\n\u001b[0;32m      3\u001b[0m query_vector \u001b[38;5;241m=\u001b[39m new_tfidf_vector\u001b[38;5;241m.\u001b[39mtoarray()\n\u001b[1;32m----> 5\u001b[0m cosine_similarities \u001b[38;5;241m=\u001b[39m [\u001b[38;5;241m1\u001b[39m \u001b[38;5;241m-\u001b[39m \u001b[43mcosine\u001b[49m\u001b[43m(\u001b[49m\u001b[43mquery_vector\u001b[49m\u001b[43m,\u001b[49m\u001b[43m \u001b[49m\u001b[43mdoc_vector\u001b[49m\u001b[43m)\u001b[49m \u001b[38;5;28;01mfor\u001b[39;00m doc_vector \u001b[38;5;129;01min\u001b[39;00m tfidf_array]\n",
      "File \u001b[1;32m~\\AppData\\Local\\Programs\\Python\\Python310\\lib\\site-packages\\scipy\\spatial\\distance.py:684\u001b[0m, in \u001b[0;36mcosine\u001b[1;34m(u, v, w)\u001b[0m\n\u001b[0;32m    642\u001b[0m \u001b[38;5;250m\u001b[39m\u001b[38;5;124;03m\"\"\"\u001b[39;00m\n\u001b[0;32m    643\u001b[0m \u001b[38;5;124;03mCompute the Cosine distance between 1-D arrays.\u001b[39;00m\n\u001b[0;32m    644\u001b[0m \n\u001b[1;32m   (...)\u001b[0m\n\u001b[0;32m    679\u001b[0m \n\u001b[0;32m    680\u001b[0m \u001b[38;5;124;03m\"\"\"\u001b[39;00m\n\u001b[0;32m    681\u001b[0m \u001b[38;5;66;03m# cosine distance is also referred to as 'uncentered correlation',\u001b[39;00m\n\u001b[0;32m    682\u001b[0m \u001b[38;5;66;03m#   or 'reflective correlation'\u001b[39;00m\n\u001b[0;32m    683\u001b[0m \u001b[38;5;66;03m# clamp the result to 0-2\u001b[39;00m\n\u001b[1;32m--> 684\u001b[0m \u001b[38;5;28;01mreturn\u001b[39;00m \u001b[38;5;28mmax\u001b[39m(\u001b[38;5;241m0\u001b[39m, \u001b[38;5;28mmin\u001b[39m(\u001b[43mcorrelation\u001b[49m\u001b[43m(\u001b[49m\u001b[43mu\u001b[49m\u001b[43m,\u001b[49m\u001b[43m \u001b[49m\u001b[43mv\u001b[49m\u001b[43m,\u001b[49m\u001b[43m \u001b[49m\u001b[43mw\u001b[49m\u001b[38;5;241;43m=\u001b[39;49m\u001b[43mw\u001b[49m\u001b[43m,\u001b[49m\u001b[43m \u001b[49m\u001b[43mcentered\u001b[49m\u001b[38;5;241;43m=\u001b[39;49m\u001b[38;5;28;43;01mFalse\u001b[39;49;00m\u001b[43m)\u001b[49m, \u001b[38;5;241m2.0\u001b[39m))\n",
      "File \u001b[1;32m~\\AppData\\Local\\Programs\\Python\\Python310\\lib\\site-packages\\scipy\\spatial\\distance.py:624\u001b[0m, in \u001b[0;36mcorrelation\u001b[1;34m(u, v, w, centered)\u001b[0m\n\u001b[0;32m    591\u001b[0m \u001b[38;5;28;01mdef\u001b[39;00m \u001b[38;5;21mcorrelation\u001b[39m(u, v, w\u001b[38;5;241m=\u001b[39m\u001b[38;5;28;01mNone\u001b[39;00m, centered\u001b[38;5;241m=\u001b[39m\u001b[38;5;28;01mTrue\u001b[39;00m):\n\u001b[0;32m    592\u001b[0m \u001b[38;5;250m    \u001b[39m\u001b[38;5;124;03m\"\"\"\u001b[39;00m\n\u001b[0;32m    593\u001b[0m \u001b[38;5;124;03m    Compute the correlation distance between two 1-D arrays.\u001b[39;00m\n\u001b[0;32m    594\u001b[0m \n\u001b[1;32m   (...)\u001b[0m\n\u001b[0;32m    622\u001b[0m \n\u001b[0;32m    623\u001b[0m \u001b[38;5;124;03m    \"\"\"\u001b[39;00m\n\u001b[1;32m--> 624\u001b[0m     u \u001b[38;5;241m=\u001b[39m \u001b[43m_validate_vector\u001b[49m\u001b[43m(\u001b[49m\u001b[43mu\u001b[49m\u001b[43m)\u001b[49m\n\u001b[0;32m    625\u001b[0m     v \u001b[38;5;241m=\u001b[39m _validate_vector(v)\n\u001b[0;32m    626\u001b[0m     \u001b[38;5;28;01mif\u001b[39;00m w \u001b[38;5;129;01mis\u001b[39;00m \u001b[38;5;129;01mnot\u001b[39;00m \u001b[38;5;28;01mNone\u001b[39;00m:\n",
      "File \u001b[1;32m~\\AppData\\Local\\Programs\\Python\\Python310\\lib\\site-packages\\scipy\\spatial\\distance.py:318\u001b[0m, in \u001b[0;36m_validate_vector\u001b[1;34m(u, dtype)\u001b[0m\n\u001b[0;32m    316\u001b[0m \u001b[38;5;28;01mif\u001b[39;00m u\u001b[38;5;241m.\u001b[39mndim \u001b[38;5;241m==\u001b[39m \u001b[38;5;241m1\u001b[39m:\n\u001b[0;32m    317\u001b[0m     \u001b[38;5;28;01mreturn\u001b[39;00m u\n\u001b[1;32m--> 318\u001b[0m \u001b[38;5;28;01mraise\u001b[39;00m \u001b[38;5;167;01mValueError\u001b[39;00m(\u001b[38;5;124m\"\u001b[39m\u001b[38;5;124mInput vector should be 1-D.\u001b[39m\u001b[38;5;124m\"\u001b[39m)\n",
      "\u001b[1;31mValueError\u001b[0m: Input vector should be 1-D."
     ]
    }
   ],
   "source": [
    "from scipy.spatial.distance import cosine\n",
    "tfidf_array = tfidf_matrix.toarray()\n",
    "query_vector = new_tfidf_vector.toarray()\n",
    "\n",
    "cosine_similarities = [1 - cosine(query_vector, doc_vector) for doc_vector in tfidf_array]\n"
   ]
  },
  {
   "cell_type": "code",
   "execution_count": 44,
   "id": "3b0adc9e",
   "metadata": {},
   "outputs": [
    {
     "data": {
      "text/html": [
       "<div>\n",
       "<style scoped>\n",
       "    .dataframe tbody tr th:only-of-type {\n",
       "        vertical-align: middle;\n",
       "    }\n",
       "\n",
       "    .dataframe tbody tr th {\n",
       "        vertical-align: top;\n",
       "    }\n",
       "\n",
       "    .dataframe thead th {\n",
       "        text-align: right;\n",
       "    }\n",
       "</style>\n",
       "<table border=\"1\" class=\"dataframe\">\n",
       "  <thead>\n",
       "    <tr style=\"text-align: right;\">\n",
       "      <th></th>\n",
       "      <th>id</th>\n",
       "      <th>text</th>\n",
       "      <th>skor</th>\n",
       "    </tr>\n",
       "  </thead>\n",
       "  <tbody>\n",
       "    <tr>\n",
       "      <th>1</th>\n",
       "      <td>2b0127cc-be54-40cd-890c-0847d0698876</td>\n",
       "      <td>ui ux cari ui ux designer kreatif alam</td>\n",
       "      <td>0.710644</td>\n",
       "    </tr>\n",
       "    <tr>\n",
       "      <th>3</th>\n",
       "      <td>07c592cc-1770-46ca-9885-e37ee88dd9ac</td>\n",
       "      <td>ui ux designer cari ui ux designer alam startup</td>\n",
       "      <td>0.619943</td>\n",
       "    </tr>\n",
       "    <tr>\n",
       "      <th>2</th>\n",
       "      <td>0fa1e1ae-23b6-4e3d-9e06-0f635fd4f3ee</td>\n",
       "      <td>ui ux researcher butuh ui ux researcher kumpul analis data</td>\n",
       "      <td>0.508542</td>\n",
       "    </tr>\n",
       "  </tbody>\n",
       "</table>\n",
       "</div>"
      ],
      "text/plain": [
       "                                     id  \\\n",
       "1  2b0127cc-be54-40cd-890c-0847d0698876   \n",
       "3  07c592cc-1770-46ca-9885-e37ee88dd9ac   \n",
       "2  0fa1e1ae-23b6-4e3d-9e06-0f635fd4f3ee   \n",
       "\n",
       "                                                         text      skor  \n",
       "1                     ui ux cari ui ux designer kreatif alam   0.710644  \n",
       "3             ui ux designer cari ui ux designer alam startup  0.619943  \n",
       "2  ui ux researcher butuh ui ux researcher kumpul analis data  0.508542  "
      ]
     },
     "execution_count": 44,
     "metadata": {},
     "output_type": "execute_result"
    }
   ],
   "source": [
    "cosine_result = pd.DataFrame(vacanciesWeighted, columns=[\"skor\"], index=range(1, len(vacanciesWeighted) + 1))\n",
    "cosine_result = pd.concat([dframeVacancies, cosine_result], axis=1, join='inner')\n",
    "\n",
    "sorted_cosine_result = cosine_result.sort_values(by='skor', ascending=False)\n",
    "sorted_cosine_result"
   ]
  },
  {
   "cell_type": "code",
   "execution_count": 131,
   "id": "d982baa7",
   "metadata": {},
   "outputs": [],
   "source": [
    "#========================="
   ]
  },
  {
   "cell_type": "code",
   "execution_count": 130,
   "id": "439c5468",
   "metadata": {},
   "outputs": [],
   "source": [
    "recommended_docs = [vacancies[index] for index in sortedIndexVacancies]\n",
    "#recommended_docs"
   ]
  },
  {
   "cell_type": "code",
   "execution_count": 26,
   "id": "a2f30aa5",
   "metadata": {},
   "outputs": [
    {
     "name": "stdout",
     "output_type": "stream",
     "text": [
      "TF Keyword:\n"
     ]
    },
    {
     "data": {
      "text/html": [
       "<div>\n",
       "<style scoped>\n",
       "    .dataframe tbody tr th:only-of-type {\n",
       "        vertical-align: middle;\n",
       "    }\n",
       "\n",
       "    .dataframe tbody tr th {\n",
       "        vertical-align: top;\n",
       "    }\n",
       "\n",
       "    .dataframe thead th {\n",
       "        text-align: right;\n",
       "    }\n",
       "</style>\n",
       "<table border=\"1\" class=\"dataframe\">\n",
       "  <thead>\n",
       "    <tr style=\"text-align: right;\">\n",
       "      <th></th>\n",
       "      <th>alam</th>\n",
       "      <th>analis</th>\n",
       "      <th>butuh</th>\n",
       "      <th>cari</th>\n",
       "      <th>data</th>\n",
       "      <th>designer</th>\n",
       "      <th>kreatif</th>\n",
       "      <th>kumpul</th>\n",
       "      <th>researcher</th>\n",
       "      <th>startup</th>\n",
       "      <th>ui</th>\n",
       "      <th>ux</th>\n",
       "    </tr>\n",
       "  </thead>\n",
       "  <tbody>\n",
       "    <tr>\n",
       "      <th>0</th>\n",
       "      <td>0</td>\n",
       "      <td>0</td>\n",
       "      <td>0</td>\n",
       "      <td>0</td>\n",
       "      <td>0</td>\n",
       "      <td>0</td>\n",
       "      <td>0</td>\n",
       "      <td>0</td>\n",
       "      <td>0</td>\n",
       "      <td>0</td>\n",
       "      <td>1</td>\n",
       "      <td>1</td>\n",
       "    </tr>\n",
       "  </tbody>\n",
       "</table>\n",
       "</div>"
      ],
      "text/plain": [
       "   alam  analis  butuh  cari  data  designer  kreatif  kumpul  researcher  \\\n",
       "0     0       0      0     0     0         0        0       0           0   \n",
       "\n",
       "   startup  ui  ux  \n",
       "0        0   1   1  "
      ]
     },
     "execution_count": 26,
     "metadata": {},
     "output_type": "execute_result"
    }
   ],
   "source": [
    "print('TF Keyword:')\n",
    "tf_keyword_dframe_output = pd.DataFrame(tf_keyword.toarray(), columns=countVectorizer.get_feature_names_out())\n",
    "\n",
    "if os.path.isfile('./tf-keyword.xlsx'):\n",
    "    existing_df = pd.read_excel('tf-keyword.xlsx')\n",
    "    existing_df = tf_keyword_dframe_output\n",
    "    existing_df.to_excel('tf-keyword.xlsx', index=True)\n",
    "else:\n",
    "    tf_keyword_dframe_output.to_excel('tf-keyword.xlsx', index=True)\n",
    "\n",
    "pd.set_option('display.max_rows', None)\n",
    "pd.set_option('display.max_columns', 20)\n",
    "tf_keyword_dframe_output"
   ]
  },
  {
   "cell_type": "code",
   "execution_count": 27,
   "id": "cb8c8acf",
   "metadata": {},
   "outputs": [
    {
     "name": "stdout",
     "output_type": "stream",
     "text": [
      "TFIDF Keyword tanpa Norm L2:\n"
     ]
    },
    {
     "data": {
      "text/html": [
       "<div>\n",
       "<style scoped>\n",
       "    .dataframe tbody tr th:only-of-type {\n",
       "        vertical-align: middle;\n",
       "    }\n",
       "\n",
       "    .dataframe tbody tr th {\n",
       "        vertical-align: top;\n",
       "    }\n",
       "\n",
       "    .dataframe thead th {\n",
       "        text-align: right;\n",
       "    }\n",
       "</style>\n",
       "<table border=\"1\" class=\"dataframe\">\n",
       "  <thead>\n",
       "    <tr style=\"text-align: right;\">\n",
       "      <th></th>\n",
       "      <th>alam</th>\n",
       "      <th>analis</th>\n",
       "      <th>butuh</th>\n",
       "      <th>cari</th>\n",
       "      <th>data</th>\n",
       "      <th>designer</th>\n",
       "      <th>kreatif</th>\n",
       "      <th>kumpul</th>\n",
       "      <th>researcher</th>\n",
       "      <th>startup</th>\n",
       "      <th>ui</th>\n",
       "      <th>ux</th>\n",
       "    </tr>\n",
       "  </thead>\n",
       "  <tbody>\n",
       "    <tr>\n",
       "      <th>0</th>\n",
       "      <td>0.0</td>\n",
       "      <td>0.0</td>\n",
       "      <td>0.0</td>\n",
       "      <td>0.0</td>\n",
       "      <td>0.0</td>\n",
       "      <td>0.0</td>\n",
       "      <td>0.0</td>\n",
       "      <td>0.0</td>\n",
       "      <td>0.0</td>\n",
       "      <td>0.0</td>\n",
       "      <td>1.0</td>\n",
       "      <td>1.0</td>\n",
       "    </tr>\n",
       "  </tbody>\n",
       "</table>\n",
       "</div>"
      ],
      "text/plain": [
       "   alam  analis  butuh  cari  data  designer  kreatif  kumpul  researcher  \\\n",
       "0   0.0     0.0    0.0   0.0   0.0       0.0      0.0     0.0         0.0   \n",
       "\n",
       "   startup   ui   ux  \n",
       "0      0.0  1.0  1.0  "
      ]
     },
     "execution_count": 27,
     "metadata": {},
     "output_type": "execute_result"
    }
   ],
   "source": [
    "print('TFIDF Keyword tanpa Norm L2:')\n",
    "\n",
    "pd.set_option('display.max_rows', None)\n",
    "pd.set_option('display.max_columns', 15)\n",
    "tfidf_keyword_dframe_output = pd.DataFrame(new_tfidf_vectorWithoutNorm.toarray(), columns=vectorizerWithoutNorm.get_feature_names_out())\n",
    "\n",
    "if os.path.isfile('./tfidf-keyword.xlsx'):\n",
    "    existing_df = pd.read_excel('tf-keyword.xlsx')\n",
    "    existing_df = tfidf_keyword_dframe_output\n",
    "    existing_df.to_excel('tfidf-keyword.xlsx', index=True)\n",
    "else:\n",
    "    tfidf_keyword_dframe_output.to_excel('tfidf-keyword.xlsx', index=True)\n",
    "\n",
    "tfidf_keyword_dframe_output"
   ]
  },
  {
   "cell_type": "code",
   "execution_count": 29,
   "id": "0b9eaabc",
   "metadata": {},
   "outputs": [
    {
     "name": "stdout",
     "output_type": "stream",
     "text": [
      "TFIDF Keyword dengan Norm L2:\n"
     ]
    },
    {
     "data": {
      "text/html": [
       "<div>\n",
       "<style scoped>\n",
       "    .dataframe tbody tr th:only-of-type {\n",
       "        vertical-align: middle;\n",
       "    }\n",
       "\n",
       "    .dataframe tbody tr th {\n",
       "        vertical-align: top;\n",
       "    }\n",
       "\n",
       "    .dataframe thead th {\n",
       "        text-align: right;\n",
       "    }\n",
       "</style>\n",
       "<table border=\"1\" class=\"dataframe\">\n",
       "  <thead>\n",
       "    <tr style=\"text-align: right;\">\n",
       "      <th></th>\n",
       "      <th>alam</th>\n",
       "      <th>analis</th>\n",
       "      <th>butuh</th>\n",
       "      <th>cari</th>\n",
       "      <th>data</th>\n",
       "      <th>designer</th>\n",
       "      <th>kreatif</th>\n",
       "      <th>kumpul</th>\n",
       "      <th>researcher</th>\n",
       "      <th>startup</th>\n",
       "      <th>ui</th>\n",
       "      <th>ux</th>\n",
       "    </tr>\n",
       "  </thead>\n",
       "  <tbody>\n",
       "    <tr>\n",
       "      <th>0</th>\n",
       "      <td>0.0</td>\n",
       "      <td>0.0</td>\n",
       "      <td>0.0</td>\n",
       "      <td>0.0</td>\n",
       "      <td>0.0</td>\n",
       "      <td>0.0</td>\n",
       "      <td>0.0</td>\n",
       "      <td>0.0</td>\n",
       "      <td>0.0</td>\n",
       "      <td>0.0</td>\n",
       "      <td>0.707107</td>\n",
       "      <td>0.707107</td>\n",
       "    </tr>\n",
       "  </tbody>\n",
       "</table>\n",
       "</div>"
      ],
      "text/plain": [
       "   alam  analis  butuh  cari  data  designer  kreatif  kumpul  researcher  \\\n",
       "0   0.0     0.0    0.0   0.0   0.0       0.0      0.0     0.0         0.0   \n",
       "\n",
       "   startup        ui        ux  \n",
       "0      0.0  0.707107  0.707107  "
      ]
     },
     "execution_count": 29,
     "metadata": {},
     "output_type": "execute_result"
    }
   ],
   "source": [
    "print('TFIDF Keyword dengan Norm L2:')\n",
    "tfidfKeywordWithNormL2_dframe_output = pd.DataFrame(new_tfidf_vector.toarray(), columns=vectorizer.get_feature_names_out())\n",
    "\n",
    "if os.path.isfile('./tfidf-norm-keyword.xlsx'):\n",
    "    existing_df = pd.read_excel('tfidf-norm-keyword.xlsx')\n",
    "    existing_df = tfidfKeywordWithNormL2_dframe_output\n",
    "    existing_df.to_excel('tfidf-norm-keyword.xlsx', index=True)\n",
    "else:\n",
    "    tfidfKeywordWithNormL2_dframe_output.to_excel('tfidf-norm-keyword.xlsx', index=True)\n",
    "\n",
    "tfidfKeywordWithNormL2_dframe_output"
   ]
  },
  {
   "cell_type": "code",
   "execution_count": 33,
   "id": "faf8b2fa",
   "metadata": {},
   "outputs": [
    {
     "data": {
      "text/plain": [
       "(0, 25, 5, -5)"
      ]
     },
     "execution_count": 33,
     "metadata": {},
     "output_type": "execute_result"
    }
   ],
   "source": [
    "ground_truth_list = [309, 279, 390, 400, 166]\n",
    "\n",
    "true_positives = sum(1 for doc_idx in sortedIndexVacancies if doc_idx in ground_truth_list)\n",
    "false_positives = len(sortedIndexVacancies) - true_positives\n",
    "false_negatives = len(ground_truth_list) - true_positives\n",
    "true_negatives = len(vacancies) - len(ground_truth_list) - false_positives\n",
    "\n",
    "true_positives, false_positives, false_negatives, true_negatives"
   ]
  },
  {
   "cell_type": "code",
   "execution_count": 42,
   "id": "dabc891e",
   "metadata": {},
   "outputs": [
    {
     "name": "stdout",
     "output_type": "stream",
     "text": [
      "Ground Truth: [309, 279, 390, 400, 166]\n",
      "Precision: 0.01\n",
      "Recall: 1.00\n"
     ]
    }
   ],
   "source": [
    "precision = true_positives / (true_positives + false_positives)\n",
    "recall = true_positives / (true_positives + false_negatives)\n",
    "\n",
    "print(f\"Ground Truth: {ground_truth_list}\")\n",
    "print(f\"Precision: {precision:.2f}\")\n",
    "print(f\"Recall: {recall:.2f}\")"
   ]
  }
 ],
 "metadata": {
  "kernelspec": {
   "display_name": "Python 3 (ipykernel)",
   "language": "python",
   "name": "python3"
  },
  "language_info": {
   "codemirror_mode": {
    "name": "ipython",
    "version": 3
   },
   "file_extension": ".py",
   "mimetype": "text/x-python",
   "name": "python",
   "nbconvert_exporter": "python",
   "pygments_lexer": "ipython3",
   "version": "3.10.5"
  }
 },
 "nbformat": 4,
 "nbformat_minor": 5
}
