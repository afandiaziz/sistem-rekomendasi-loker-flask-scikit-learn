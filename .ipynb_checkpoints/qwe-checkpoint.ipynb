{
 "cells": [
  {
   "cell_type": "code",
   "execution_count": 1,
   "id": "f10bb7bf",
   "metadata": {},
   "outputs": [],
   "source": [
    "import re\n",
    "import sys\n",
    "import math\n",
    "import pandas as pd\n",
    "import mysql.connector\n",
    "from datetime import date\n",
    "from sklearn.metrics.pairwise import cosine_similarity\n",
    "from sklearn.feature_extraction.text import CountVectorizer\n",
    "from sklearn.feature_extraction.text import TfidfVectorizer\n",
    "from Sastrawi.StopWordRemover.StopWordRemoverFactory import StopWordRemoverFactory"
   ]
  },
  {
   "cell_type": "code",
   "execution_count": 2,
   "id": "88ba8ec7",
   "metadata": {},
   "outputs": [],
   "source": [
    "data = [\n",
    "    'hotel santika. terjangkau, strategis, dekat stasiun, mall, apartment, pasar',\n",
    "    'hotel margonda. strategis, dekat stasiun, kampus, mewah nyaman',\n",
    "    'hotel aviary bintaro. hotel bintang 4. mewah, bersih, nyaman, pelayanan terbaik tenang',\n",
    "]\n",
    "keywords = [\"mewah, nyaman, dan terjangkau\"]"
   ]
  },
  {
   "cell_type": "code",
   "execution_count": 34,
   "id": "b3a055f4",
   "metadata": {},
   "outputs": [
    {
     "data": {
      "text/html": [
       "<div>\n",
       "<style scoped>\n",
       "    .dataframe tbody tr th:only-of-type {\n",
       "        vertical-align: middle;\n",
       "    }\n",
       "\n",
       "    .dataframe tbody tr th {\n",
       "        vertical-align: top;\n",
       "    }\n",
       "\n",
       "    .dataframe thead th {\n",
       "        text-align: right;\n",
       "    }\n",
       "</style>\n",
       "<table border=\"1\" class=\"dataframe\">\n",
       "  <thead>\n",
       "    <tr style=\"text-align: right;\">\n",
       "      <th></th>\n",
       "      <th>text</th>\n",
       "    </tr>\n",
       "  </thead>\n",
       "  <tbody>\n",
       "    <tr>\n",
       "      <th>0</th>\n",
       "      <td>hotel santika. terjangkau, strategis, dekat st...</td>\n",
       "    </tr>\n",
       "    <tr>\n",
       "      <th>1</th>\n",
       "      <td>hotel margonda. strategis, dekat stasiun, kamp...</td>\n",
       "    </tr>\n",
       "    <tr>\n",
       "      <th>2</th>\n",
       "      <td>hotel aviary bintaro. hotel bintang 4. mewah, ...</td>\n",
       "    </tr>\n",
       "  </tbody>\n",
       "</table>\n",
       "</div>"
      ],
      "text/plain": [
       "                                                text\n",
       "0  hotel santika. terjangkau, strategis, dekat st...\n",
       "1  hotel margonda. strategis, dekat stasiun, kamp...\n",
       "2  hotel aviary bintaro. hotel bintang 4. mewah, ..."
      ]
     },
     "execution_count": 34,
     "metadata": {},
     "output_type": "execute_result"
    }
   ],
   "source": [
    "df = pd.DataFrame(data, columns=[\"text\"])\n",
    "df = df.dropna()\n",
    "dfCombine = df[\"text\"]\n",
    "df"
   ]
  },
  {
   "cell_type": "code",
   "execution_count": 35,
   "id": "91453121",
   "metadata": {},
   "outputs": [],
   "source": [
    "vectorizer = TfidfVectorizer()\n",
    "countVectorizer = CountVectorizer()\n",
    "tfidf_matrix = vectorizer.fit_transform(dfCombine)\n",
    "tfidf_matrix_count = countVectorizer.fit_transform(dfCombine)\n",
    "new_tfidf_vector = vectorizer.transform(keywords)\n",
    "new_tfidf_vector_count = countVectorizer.transform(keywords)"
   ]
  },
  {
   "cell_type": "code",
   "execution_count": 36,
   "id": "bb862011",
   "metadata": {},
   "outputs": [],
   "source": [
    "idf_values = vectorizer.idf_\n",
    "words = vectorizer.get_feature_names_out()\n",
    "document_frequencies = tfidf_matrix.astype(bool).sum(axis=0).A1"
   ]
  },
  {
   "cell_type": "code",
   "execution_count": 45,
   "id": "1ebea8fa",
   "metadata": {},
   "outputs": [
    {
     "data": {
      "text/plain": [
       "['Word', 'Dokumen 1', 'Dokumen 2', 'Dokumen 3', 'Keyword 1']"
      ]
     },
     "execution_count": 45,
     "metadata": {},
     "output_type": "execute_result"
    }
   ],
   "source": [
    "columnsName = [\"Word\"]\n",
    "\n",
    "indexColumn = 1\n",
    "for index in range(len(data) + len(keywords)):\n",
    "    if index == len(data):\n",
    "        indexColumn = 1\n",
    "    \n",
    "    if index < len(data):\n",
    "        columnsName.append(\"Dokumen \" + str(indexColumn))\n",
    "    else:\n",
    "        columnsName.append(\"Keyword \" + str(indexColumn))\n",
    "    \n",
    "    indexColumn = indexColumn + 1\n",
    "    \n",
    "columnsName"
   ]
  },
  {
   "cell_type": "code",
   "execution_count": 48,
   "id": "90be5d31",
   "metadata": {},
   "outputs": [
    {
     "name": "stdout",
     "output_type": "stream",
     "text": [
      "  (0, 6)\t1\n",
      "  (0, 14)\t1\n",
      "  (0, 19)\t1\n",
      "  (0, 16)\t1\n",
      "  (0, 5)\t1\n",
      "  (0, 15)\t1\n",
      "  (0, 8)\t1\n",
      "  (0, 0)\t1\n",
      "  (0, 12)\t1\n",
      "  (1, 6)\t1\n",
      "  (1, 16)\t1\n",
      "  (1, 5)\t1\n",
      "  (1, 15)\t1\n",
      "  (1, 9)\t1\n",
      "  (1, 7)\t1\n",
      "  (1, 10)\t1\n",
      "  (1, 11)\t1\n",
      "  (2, 6)\t2\n",
      "  (2, 10)\t1\n",
      "  (2, 11)\t1\n",
      "  (2, 1)\t1\n",
      "  (2, 4)\t1\n",
      "  (2, 3)\t1\n",
      "  (2, 2)\t1\n",
      "  (2, 13)\t1\n",
      "  (2, 18)\t1\n",
      "  (2, 17)\t1\n"
     ]
    }
   ],
   "source": [
    "print(tfidf_matrix_count)"
   ]
  },
  {
   "cell_type": "code",
   "execution_count": 51,
   "id": "0c8b218c",
   "metadata": {},
   "outputs": [
    {
     "name": "stdout",
     "output_type": "stream",
     "text": [
      "          Word  Dokumen 1  Dokumen 2  Dokumen 3  Keyword 1\n",
      "0    apartment          0          0          0          0\n",
      "1       aviary          0          0          0          0\n",
      "2       bersih          0          0          0          0\n",
      "3      bintang          0          0          0          0\n",
      "4      bintaro          0          0          0          0\n",
      "5        dekat          0          0          0          0\n",
      "6        hotel          0          0          0          0\n",
      "7       kampus          0          0          0          0\n",
      "8         mall          0          0          0          0\n",
      "9     margonda          0          0          0          0\n",
      "10       mewah          0          0          0          0\n",
      "11      nyaman          0          0          0          0\n",
      "12       pasar          0          0          0          0\n",
      "13   pelayanan          0          0          0          0\n",
      "14     santika          0          0          0          0\n",
      "15     stasiun          0          0          0          0\n",
      "16   strategis          0          0          0          0\n",
      "17      tenang          0          0          0          0\n",
      "18     terbaik          0          0          0          0\n",
      "19  terjangkau          0          0          0          0\n"
     ]
    }
   ],
   "source": [
    "printDataFrame = pd.DataFrame({\n",
    "    columnsName[0]: words\n",
    "})\n",
    "\n",
    "for columnName in columnsName:\n",
    "    if columnName == \"Word\":\n",
    "        continue\n",
    "        \n",
    "    for index, document in enumerate(data):\n",
    "        for word_index, word in enumerate(words):\n",
    "            printDataFrame[columnName] = tfidf_matrix_count[index - 1, word_index]\n",
    "\n",
    "# add new row\n",
    "#printDataFrame.loc[len(printDataFrame)] = [\"a\"]\n",
    "\n",
    "#for word_index, word in enumerate(words):\n",
    "\n",
    "print(printDataFrame)\n",
    "#for index, tf in enumerate(tfidf_matrix_count):\n",
    "#    tfidf_matrix_count[index, word_index]"
   ]
  },
  {
   "cell_type": "code",
   "execution_count": 43,
   "id": "71df1efb",
   "metadata": {},
   "outputs": [
    {
     "ename": "NameError",
     "evalue": "name 'dataTf' is not defined",
     "output_type": "error",
     "traceback": [
      "\u001b[1;31m---------------------------------------------------------------------------\u001b[0m",
      "\u001b[1;31mNameError\u001b[0m                                 Traceback (most recent call last)",
      "Cell \u001b[1;32mIn[43], line 7\u001b[0m\n\u001b[0;32m      5\u001b[0m columns \u001b[38;5;241m=\u001b[39m []\n\u001b[0;32m      6\u001b[0m columns\u001b[38;5;241m.\u001b[39mappend(word)\n\u001b[1;32m----> 7\u001b[0m \u001b[38;5;28;01mfor\u001b[39;00m index \u001b[38;5;129;01min\u001b[39;00m \u001b[38;5;28mrange\u001b[39m(\u001b[38;5;28mlen\u001b[39m(\u001b[43mdataTf\u001b[49m)):\n\u001b[0;32m      8\u001b[0m     columns\u001b[38;5;241m.\u001b[39mappend(dataTf[index][word_index])\n\u001b[0;32m     10\u001b[0m rows\u001b[38;5;241m.\u001b[39mappend(columns)\n",
      "\u001b[1;31mNameError\u001b[0m: name 'dataTf' is not defined"
     ]
    }
   ],
   "source": [
    "#term frequency\n",
    "\n",
    "rows = []\n",
    "for word_index, word in enumerate(words):\n",
    "    columns = []\n",
    "    columns.append(word)\n",
    "    for index in range(len(dataTf)):\n",
    "        columns.append(dataTf[index][word_index])\n",
    "\n",
    "    rows.append(columns)\n",
    "    \n",
    "tfDataFrame = pd.DataFrame(rows, columns=columnsName)\n",
    "    \n",
    "print(tfDataFrame)\n"
   ]
  },
  {
   "cell_type": "code",
   "execution_count": 44,
   "id": "a0cede4a",
   "metadata": {},
   "outputs": [],
   "source": [
    "dataTf = []\n",
    "for index, document in enumerate(data):\n",
    "    dataTf.append([])\n",
    "    for word_index, word in enumerate(words):\n",
    "    \tdataTf[index].append(tfidf_matrix_count[index, word_index])\n",
    "\n",
    "        \n",
    "currentLength = len(dataTf)\n",
    "for index, document in enumerate(keywords):\n",
    "\tdataTf.append([])\n",
    "\tfor word_index, word in enumerate(words):\n",
    "\t\tdataTf[currentLength].append(new_tfidf_vector_count[index, word_index])\n",
    "\tcurrentLength += currentLength\n"
   ]
  },
  {
   "cell_type": "code",
   "execution_count": 343,
   "id": "073df81c",
   "metadata": {},
   "outputs": [
    {
     "name": "stdout",
     "output_type": "stream",
     "text": [
      "          Word  Dokumen 1  Dokumen 2  Dokumen 3  Keyword 1\n",
      "0    apartment          1          0          0          0\n",
      "1       aviary          0          0          1          0\n",
      "2       bersih          0          0          1          0\n",
      "3      bintang          0          0          1          0\n",
      "4      bintaro          0          0          1          0\n",
      "5        dekat          1          1          0          0\n",
      "6        hotel          1          1          2          0\n",
      "7       kampus          0          1          0          0\n",
      "8         mall          1          0          0          0\n",
      "9     margonda          0          1          0          0\n",
      "10       mewah          0          1          1          1\n",
      "11      nyaman          0          1          1          1\n",
      "12       pasar          1          0          0          0\n",
      "13   pelayanan          0          0          1          0\n",
      "14     santika          1          0          0          0\n",
      "15     stasiun          1          1          0          0\n",
      "16   strategis          1          1          0          0\n",
      "17      tenang          0          0          1          0\n",
      "18     terbaik          0          0          1          0\n",
      "19  terjangkau          1          0          0          1\n"
     ]
    }
   ],
   "source": [
    "#term frequency\n",
    "\n",
    "rows = []\n",
    "for word_index, word in enumerate(words):\n",
    "    columns = []\n",
    "    columns.append(word)\n",
    "    for index in range(len(dataTf)):\n",
    "        columns.append(dataTf[index][word_index])\n",
    "\n",
    "    rows.append(columns)\n",
    "    \n",
    "tfDataFrame = pd.DataFrame(rows, columns=columnsName)\n",
    "    \n",
    "print(tfDataFrame)\n"
   ]
  },
  {
   "cell_type": "code",
   "execution_count": 344,
   "id": "24321797",
   "metadata": {},
   "outputs": [
    {
     "name": "stdout",
     "output_type": "stream",
     "text": [
      "          Word  TF       IDF\n",
      "0    apartment   1  1.693147\n",
      "1       aviary   1  1.693147\n",
      "2       bersih   1  1.693147\n",
      "3      bintang   1  1.693147\n",
      "4      bintaro   1  1.693147\n",
      "5        dekat   2  1.287682\n",
      "6        hotel   3  1.000000\n",
      "7       kampus   1  1.693147\n",
      "8         mall   1  1.693147\n",
      "9     margonda   1  1.693147\n",
      "10       mewah   2  1.287682\n",
      "11      nyaman   2  1.287682\n",
      "12       pasar   1  1.693147\n",
      "13   pelayanan   1  1.693147\n",
      "14     santika   1  1.693147\n",
      "15     stasiun   2  1.287682\n",
      "16   strategis   2  1.287682\n",
      "17      tenang   1  1.693147\n",
      "18     terbaik   1  1.693147\n",
      "19  terjangkau   1  1.693147\n"
     ]
    }
   ],
   "source": [
    "rows = []\n",
    "for word_index, word in enumerate(words):\n",
    "    columns = []\n",
    "    columns.append(word)\n",
    "    columns.append(document_frequencies[word_index])\n",
    "    columns.append(idf_values[word_index])\n",
    "    rows.append(columns)\n",
    "    \n",
    "weightedDataFrame = pd.DataFrame(rows, columns=[\"Word\", \"TF\", \"IDF\"])\n",
    "print(weightedDataFrame)\n",
    "#for word_index, word in enumerate(words):\n",
    "#    print(word_index + 1, \" Word:\",  word, \"  TF:\", document_frequencies[word_index], \"  IDF:\", idf_values[word_index])"
   ]
  },
  {
   "cell_type": "code",
   "execution_count": 345,
   "id": "ab8e509d",
   "metadata": {},
   "outputs": [
    {
     "name": "stdout",
     "output_type": "stream",
     "text": [
      "          Word  Dokumen 1  Dokumen 2  Dokumen 3  Keyword 1\n",
      "0    apartment   1.693147   0.000000   0.000000   0.000000\n",
      "1       aviary   0.000000   0.000000   1.693147   0.000000\n",
      "2       bersih   0.000000   0.000000   1.693147   0.000000\n",
      "3      bintang   0.000000   0.000000   1.693147   0.000000\n",
      "4      bintaro   0.000000   0.000000   1.693147   0.000000\n",
      "5        dekat   1.287682   1.287682   0.000000   0.000000\n",
      "6        hotel   1.000000   1.000000   2.000000   0.000000\n",
      "7       kampus   0.000000   1.693147   0.000000   0.000000\n",
      "8         mall   1.693147   0.000000   0.000000   0.000000\n",
      "9     margonda   0.000000   1.693147   0.000000   0.000000\n",
      "10       mewah   0.000000   1.287682   1.287682   1.287682\n",
      "11      nyaman   0.000000   1.287682   1.287682   1.287682\n",
      "12       pasar   1.693147   0.000000   0.000000   0.000000\n",
      "13   pelayanan   0.000000   0.000000   1.693147   0.000000\n",
      "14     santika   1.693147   0.000000   0.000000   0.000000\n",
      "15     stasiun   1.287682   1.287682   0.000000   0.000000\n",
      "16   strategis   1.287682   1.287682   0.000000   0.000000\n",
      "17      tenang   0.000000   0.000000   1.693147   0.000000\n",
      "18     terbaik   0.000000   0.000000   1.693147   0.000000\n",
      "19  terjangkau   1.693147   0.000000   0.000000   1.693147\n"
     ]
    }
   ],
   "source": [
    "#tf x idf\n",
    "tfidfDataFrame = tfDataFrame\n",
    "\n",
    "for index, tf in enumerate(tfDataFrame.iterrows()):\n",
    "    for indexColumn, column in enumerate(columnsName):\n",
    "        if indexColumn > 0:\n",
    "            tfidfDataFrame.at[index, column] = float(tfidfDataFrame.loc[index, column]) * float(idf_values[index])\n",
    "    \n",
    "print(tfidfDataFrame)\n"
   ]
  },
  {
   "cell_type": "code",
   "execution_count": 346,
   "id": "81931101",
   "metadata": {},
   "outputs": [],
   "source": [
    "for doc_index, doc in enumerate(dfCombine):\n",
    "    #print(\"Document:\", doc)\n",
    "    tfidf_values = tfidf_matrix[doc_index].toarray()[0]\n",
    "    for feature_index, tf_value in enumerate(tfidf_values):\n",
    "        #if tf_value > 0:\n",
    "        idf_value = idf_values[feature_index]\n",
    "        df_value = document_frequencies[feature_index]\n",
    "        #print(\"  Word:\", feature_names[feature_index], \"  DF:\", df_value, \"  TF:\", tf_value, \"  IDF:\", idf_value)\n",
    "    #print()"
   ]
  },
  {
   "cell_type": "code",
   "execution_count": 347,
   "id": "25cc117d",
   "metadata": {},
   "outputs": [
    {
     "data": {
      "text/plain": [
       "array([[0.37571621, 0.        , 0.        , 0.        , 0.        ,\n",
       "        0.28574186, 0.22190405, 0.        , 0.37571621, 0.        ,\n",
       "        0.        , 0.        , 0.37571621, 0.        , 0.37571621,\n",
       "        0.28574186, 0.28574186, 0.        , 0.        , 0.37571621],\n",
       "       [0.        , 0.        , 0.        , 0.        , 0.        ,\n",
       "        0.33221109, 0.25799154, 0.43681766, 0.        , 0.43681766,\n",
       "        0.33221109, 0.33221109, 0.        , 0.        , 0.        ,\n",
       "        0.33221109, 0.33221109, 0.        , 0.        , 0.        ],\n",
       "       [0.        , 0.32355669, 0.32355669, 0.32355669, 0.32355669,\n",
       "        0.        , 0.38219558, 0.        , 0.        , 0.        ,\n",
       "        0.2460732 , 0.2460732 , 0.        , 0.32355669, 0.        ,\n",
       "        0.        , 0.        , 0.32355669, 0.32355669, 0.        ]])"
      ]
     },
     "execution_count": 347,
     "metadata": {},
     "output_type": "execute_result"
    }
   ],
   "source": [
    "# norm l2\n",
    "tfidf_matrix.toarray()"
   ]
  },
  {
   "cell_type": "code",
   "execution_count": 348,
   "id": "15107c71",
   "metadata": {},
   "outputs": [
    {
     "data": {
      "text/plain": [
       "array([[0.        , 0.        , 0.        , 0.        , 0.        ,\n",
       "        0.        , 0.        , 0.        , 0.        , 0.        ,\n",
       "        0.51785612, 0.51785612, 0.        , 0.        , 0.        ,\n",
       "        0.        , 0.        , 0.        , 0.        , 0.68091856]])"
      ]
     },
     "execution_count": 348,
     "metadata": {},
     "output_type": "execute_result"
    }
   ],
   "source": [
    "new_tfidf_vector.toarray()"
   ]
  },
  {
   "cell_type": "code",
   "execution_count": 349,
   "id": "bb7326e9",
   "metadata": {},
   "outputs": [
    {
     "name": "stdout",
     "output_type": "stream",
     "text": [
      "          Word  Dokumen 1  Dokumen 2  Dokumen 3  Keyword 1\n",
      "0    apartment   0.375716   0.000000   0.000000   0.000000\n",
      "1       aviary   0.000000   0.000000   0.323557   0.000000\n",
      "2       bersih   0.000000   0.000000   0.323557   0.000000\n",
      "3      bintang   0.000000   0.000000   0.323557   0.000000\n",
      "4      bintaro   0.000000   0.000000   0.323557   0.000000\n",
      "5        dekat   0.285742   0.332211   0.000000   0.000000\n",
      "6        hotel   0.221904   0.257992   0.382196   0.000000\n",
      "7       kampus   0.000000   0.436818   0.000000   0.000000\n",
      "8         mall   0.375716   0.000000   0.000000   0.000000\n",
      "9     margonda   0.000000   0.436818   0.000000   0.000000\n",
      "10       mewah   0.000000   0.332211   0.246073   0.517856\n",
      "11      nyaman   0.000000   0.332211   0.246073   0.517856\n",
      "12       pasar   0.375716   0.000000   0.000000   0.000000\n",
      "13   pelayanan   0.000000   0.000000   0.323557   0.000000\n",
      "14     santika   0.375716   0.000000   0.000000   0.000000\n",
      "15     stasiun   0.285742   0.332211   0.000000   0.000000\n",
      "16   strategis   0.285742   0.332211   0.000000   0.000000\n",
      "17      tenang   0.000000   0.000000   0.323557   0.000000\n",
      "18     terbaik   0.000000   0.000000   0.323557   0.000000\n",
      "19  terjangkau   0.375716   0.000000   0.000000   0.680919\n"
     ]
    }
   ],
   "source": [
    "rows = []\n",
    "for word_index, word in enumerate(words):\n",
    "    columns = []\n",
    "    columns.append(word)\n",
    "    for index, matrix in enumerate(tfidf_matrix.toarray()):\n",
    "        columns.append(matrix[word_index])\n",
    "    \n",
    "    for index, matrix in enumerate(new_tfidf_vector.toarray()):\n",
    "        columns.append(matrix[word_index])\n",
    "\n",
    "    rows.append(columns)\n",
    "    \n",
    "tfidfNormL2DataFrame = pd.DataFrame(rows, columns=columnsName)\n",
    "print(tfidfNormL2DataFrame)"
   ]
  },
  {
   "cell_type": "code",
   "execution_count": 350,
   "id": "23b5efc2",
   "metadata": {},
   "outputs": [],
   "source": [
    "similarity_scores = cosine_similarity(new_tfidf_vector, tfidf_matrix)\n",
    "\n",
    "vacanciesWeighted = similarity_scores[0]\n",
    "sortedIndexVacancies = vacanciesWeighted.argsort()[::-1]"
   ]
  },
  {
   "cell_type": "code",
   "execution_count": 351,
   "id": "f8382a91",
   "metadata": {},
   "outputs": [
    {
     "name": "stdout",
     "output_type": "stream",
     "text": [
      "Document 0 score:  0.25583214172871005 rank:  2\n",
      "Document 1 score:  0.34407508669903686 rank:  1\n",
      "Document 2 score:  0.2548610221212502 rank:  3\n"
     ]
    }
   ],
   "source": [
    "for index, document in enumerate(data):\n",
    "\tprint(\"Document\", index, \"score: \", vacanciesWeighted[index], \"rank: \", sortedIndexVacancies[index] + 1)"
   ]
  }
 ],
 "metadata": {
  "kernelspec": {
   "display_name": "Python 3 (ipykernel)",
   "language": "python",
   "name": "python3"
  },
  "language_info": {
   "codemirror_mode": {
    "name": "ipython",
    "version": 3
   },
   "file_extension": ".py",
   "mimetype": "text/x-python",
   "name": "python",
   "nbconvert_exporter": "python",
   "pygments_lexer": "ipython3",
   "version": "3.10.5"
  }
 },
 "nbformat": 4,
 "nbformat_minor": 5
}
