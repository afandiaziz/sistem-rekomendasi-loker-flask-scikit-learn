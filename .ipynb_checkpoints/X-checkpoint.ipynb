{
 "cells": [
  {
   "cell_type": "code",
   "execution_count": 173,
   "id": "26cadf61",
   "metadata": {},
   "outputs": [
    {
     "name": "stdout",
     "output_type": "stream",
     "text": [
      "25\n"
     ]
    },
    {
     "data": {
      "text/plain": [
       "array([ 3,  6, 24, 11,  1,  2,  4,  5,  7,  8,  9, 10, 12, 23, 13, 14, 15,\n",
       "       16, 17, 18, 19, 20, 21, 22,  0], dtype=int64)"
      ]
     },
     "execution_count": 173,
     "metadata": {},
     "output_type": "execute_result"
    }
   ],
   "source": [
    "import numpy as np\n",
    "from sklearn.feature_extraction.text import TfidfVectorizer\n",
    "from sklearn.metrics.pairwise import cosine_similarity\n",
    "from sklearn.metrics import precision_score, recall_score, confusion_matrix, accuracy_score\n",
    "\n",
    "\n",
    "# Langkah 1: Persiapan Data\n",
    "data_lowongan = [\n",
    "    \"Lowongan Kerja Web Developer di Perusahaan ABC\",\n",
    "    \"Dibutuhkan Software Engineer untuk Proyek Inovatif\",\n",
    "    \"Lowongan Kerja Data Analyst dengan Gaji Menarik\",\n",
    "    \"Dicari UI/UX Designer berpengalaman untuk Startup\",\n",
    "    \"Lowongan Kerja Mobile App Developer Full-time\",\n",
    "    \"Dibutuhkan Software Engineer dengan pengalaman di bidang pengembangan web.\",\n",
    "    \"Dicari UI/UX Designer yang kreatif dan berpengalaman.\",\n",
    "    \"Perusahaan mencari Data Scientist untuk menganalisis data dan membuat model prediktif.\",\n",
    "    \"Dibutuhkan Digital Marketing Specialist untuk mengelola kampanye pemasaran online.\",\n",
    "    \"Perusahaan mencari Product Manager yang memiliki pengalaman di industri teknologi.\",\n",
    "    \"Dicari Content Writer yang kreatif dan mampu menulis konten berkualitas.\",\n",
    "    \"Perusahaan membutuhkan Frontend Developer untuk mengembangkan antarmuka pengguna.\",\n",
    "    \"Dibutuhkan HR Manager dengan pengalaman dalam manajemen sumber daya manusia.\",\n",
    "    \"Dicari Graphic Designer yang mampu menciptakan desain visual yang menarik.\",\n",
    "    \"Perusahaan mencari Business Analyst untuk menganalisis kebutuhan bisnis.\",\n",
    "    \"Dibutuhkan Sales Executive untuk menjalin hubungan bisnis dengan klien.\",\n",
    "    \"Dicari Full Stack Developer yang memiliki pengetahuan luas tentang teknologi terkini.\",\n",
    "    \"Perusahaan membutuhkan Customer Service Representative yang ramah dan efisien.\",\n",
    "    \"Dibutuhkan Project Manager untuk mengelola proyek dan tim dengan baik.\",\n",
    "    \"Dicari Social Media Specialist untuk mengelola kehadiran online perusahaan.\",\n",
    "    \"Perusahaan mencari Android Developer yang berpengalaman dalam pengembangan aplikasi.\",\n",
    "    \"Dibutuhkan Accountant untuk mengelola keuangan perusahaan.\",\n",
    "    \"Dicari Network Administrator yang memiliki pemahaman tentang jaringan komputer.\",\n",
    "    \"Perusahaan membutuhkan Legal Counsel untuk memberikan nasihat hukum.\",\n",
    "    \"Dibutuhkan UI/UX Researcher untuk mengumpulkan dan menganalisis data pengguna.\"\n",
    "]\n",
    "\n",
    "print(len(data_lowongan))\n",
    "\n",
    "# Langkah 2: Preprocessing Teks\n",
    "def preprocess_text(text):\n",
    "    # Tambahkan langkah-langkah preprocessing teks sesuai kebutuhan, seperti mengubah menjadi lowercase, menghapus tanda baca, dan lainnya.\n",
    "    return text.lower()\n",
    "\n",
    "data_lowongan_preprocessed = [preprocess_text(job) for job in data_lowongan]\n",
    "\n",
    "# Langkah 3: Menghitung TF-IDF\n",
    "vectorizer = TfidfVectorizer()\n",
    "tfidf_matrix = vectorizer.fit_transform(data_lowongan_preprocessed)\n",
    "\n",
    "# Langkah 4: Menghitung Cosine Similarity\n",
    "def get_recommendations(keyword, tfidf_matrix, vectorizer, top_n=5):\n",
    "    keyword_preprocessed = preprocess_text(keyword)\n",
    "    keyword_tfidf = vectorizer.transform([keyword_preprocessed])\n",
    "    cosine_similarities = cosine_similarity(keyword_tfidf, tfidf_matrix)\n",
    "    return cosine_similarities\n",
    "\n",
    "# Langkah 5: Mengurutkan dan Menampilkan Hasil\n",
    "#keyword = \"pengembangan web\"\n",
    "#cosine_similarities = get_recommendations(keyword, tfidf_matrix, vectorizer)\n",
    "cosine_similarities"
   ]
  },
  {
   "cell_type": "code",
   "execution_count": null,
   "id": "a09822cf",
   "metadata": {},
   "outputs": [],
   "source": []
  },
  {
   "cell_type": "code",
   "execution_count": 234,
   "id": "f2e6918d",
   "metadata": {},
   "outputs": [
    {
     "name": "stdout",
     "output_type": "stream",
     "text": [
      "[0.55623785 0.53647502 0.45168081]\n",
      "\n",
      "\n",
      "[1 1 0]\n",
      "[1 1 1]\n",
      "\n",
      "66.66666666666666\n",
      "100.0\n",
      "66.66666666666666\n"
     ]
    }
   ],
   "source": [
    "data_uji = {\n",
    "    #\"pengembangan web\": [0, 5, 20],\n",
    "    #\"ui/ux\": [3, 6, 24],\n",
    "    \"ui/ux\": [0, 1],\n",
    "    #\"data scientist\": [3],\n",
    "    #\"data scientist\": [3],\n",
    "    #\"digital marketing\": [4],\n",
    "    #\"product manager\": [5],\n",
    "    # Tambahkan data uji untuk kata kunci lainnya\n",
    "}\n",
    "\n",
    "for keyword, relevant_docs in data_uji.items():\n",
    "    cosine_similarities = get_recommendations(keyword, tfidf_matrix, vectorizer)[0]\n",
    "    sorted_score = cosine_similarities.argsort()[::-1]\n",
    "    filtered_indices = [idx for idx in sorted_score if cosine_similarities[idx] > 0]\n",
    "    \n",
    "    print(cosine_similarities[filtered_indices])\n",
    "    \n",
    "    data_labels = np.zeros(len(filtered_indices), dtype=int)\n",
    "    data_labels[relevant_docs] = 1\n",
    "\n",
    "    predicted_labels = np.array([1 if score else 0 for score in cosine_similarities[filtered_indices]])\n",
    "    print()\n",
    "    print()\n",
    "\n",
    "    print(data_labels)\n",
    "    print(predicted_labels)\n",
    "    print()\n",
    "\n",
    "    #conf_matrix = confusion_matrix(data_labels, predicted_labels)\n",
    "\n",
    "    #print(data_labels, predicted_labels)\n",
    "    print(precision_score(data_labels, predicted_labels) * 100)\n",
    "    print(recall_score(data_labels, predicted_labels) * 100)\n",
    "    print(accuracy_score(data_labels, predicted_labels) * 100)\n",
    "    \n",
    "\n"
   ]
  }
 ],
 "metadata": {
  "kernelspec": {
   "display_name": "Python 3 (ipykernel)",
   "language": "python",
   "name": "python3"
  },
  "language_info": {
   "codemirror_mode": {
    "name": "ipython",
    "version": 3
   },
   "file_extension": ".py",
   "mimetype": "text/x-python",
   "name": "python",
   "nbconvert_exporter": "python",
   "pygments_lexer": "ipython3",
   "version": "3.10.5"
  }
 },
 "nbformat": 4,
 "nbformat_minor": 5
}
