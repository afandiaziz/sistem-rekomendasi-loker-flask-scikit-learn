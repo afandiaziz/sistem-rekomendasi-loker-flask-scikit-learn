{
 "cells": [
  {
   "cell_type": "code",
   "execution_count": 136,
   "id": "cfe92779",
   "metadata": {},
   "outputs": [
    {
     "data": {
      "text/plain": [
       "array([[0.        , 0.        , 0.47372174, 0.        , 0.29454996,\n",
       "        0.        , 0.        , 0.33720017, 0.        , 0.        ,\n",
       "        0.        , 0.        , 0.        , 0.        , 0.2422916 ,\n",
       "        0.        , 0.38486201, 0.        , 0.        , 0.        ,\n",
       "        0.        , 0.        , 0.        , 0.        , 0.6130192 ]])"
      ]
     },
     "execution_count": 136,
     "metadata": {},
     "output_type": "execute_result"
    }
   ],
   "source": [
    "from sklearn.metrics.pairwise import cosine_similarity\n",
    "from sklearn.feature_extraction.text import TfidfVectorizer\n",
    "from sklearn.metrics import precision_score, recall_score, f1_score\n",
    "\n",
    "# Data pekerjaan (contoh, ganti dengan data pekerjaan yang sesuai)\n",
    "jobs = [\n",
    "    \"Lowongan Kerja Web Developer di Perusahaan ABC\",\n",
    "    \"Dibutuhkan Software Engineer untuk Proyek Inovatif\",\n",
    "    \"Lowongan Kerja Data Analyst dengan Gaji Menarik\",\n",
    "    \"Dicari UI/UX Designer berpengalaman untuk Startup\",\n",
    "    \"Lowongan Kerja Data Scientist\",\n",
    "    \"Dibutuhkan Software Engineer dengan pengalaman di bidang pengembangan web.\",\n",
    "    \"Dicari UI/UX Designer yang kreatif dan berpengalaman.\",\n",
    "    \"Perusahaan mencari Data Scientist untuk menganalisis data dan membuat model prediktif.\",\n",
    "    \"Dibutuhkan Digital Marketing Specialist untuk mengelola kampanye pemasaran online.\",\n",
    "    \"Perusahaan mencari Product Manager yang memiliki pengalaman di industri teknologi.\",\n",
    "    \"Dicari Content Writer yang kreatif dan mampu menulis konten berkualitas.\",\n",
    "    \"Perusahaan membutuhkan Frontend Developer untuk mengembangkan antarmuka pengguna.\",\n",
    "    \"Dibutuhkan HR Manager dengan pengalaman dalam manajemen sumber daya manusia.\",\n",
    "    \"Dicari Graphic Designer yang mampu menciptakan desain visual yang menarik.\",\n",
    "    \"Perusahaan mencari Business Analyst untuk menganalisis kebutuhan bisnis.\",\n",
    "    \"Dibutuhkan Sales Executive untuk menjalin hubungan bisnis dengan klien.\",\n",
    "    \"Dicari Data Analyst yang memiliki pengetahuan luas tentang teknologi terkini.\",\n",
    "    \"Perusahaan membutuhkan Customer Service Representative yang ramah dan efisien.\",\n",
    "    \"Dibutuhkan Project Manager untuk mengelola proyek dan tim dengan baik.\",\n",
    "    \"Dicari Social Media Specialist untuk mengelola kehadiran online perusahaan.\",\n",
    "    \"Perusahaan mencari Android Developer yang berpengalaman dalam pengembangan aplikasi.\",\n",
    "    \"Dibutuhkan Accountant untuk mengelola keuangan perusahaan.\",\n",
    "    \"Dicari Network Administrator yang memiliki pemahaman tentang jaringan komputer.\",\n",
    "    \"Perusahaan membutuhkan Legal Counsel untuk memberikan nasihat hukum.\",\n",
    "    \"Dibutuhkan Data Analyst untuk mengumpulkan dan menganalisis data pengguna.\"\n",
    "]\n",
    "\n",
    "# Proses TF-IDF\n",
    "tfidf_vectorizer = TfidfVectorizer(stop_words='english')\n",
    "tfidf_matrix = tfidf_vectorizer.fit_transform(jobs)\n",
    "\n",
    "# Kata kunci (contoh, ganti dengan kata kunci yang sesuai)\n",
    "keywords = \"Data Analyst\"\n",
    "\n",
    "# Hitung TF-IDF untuk kata kunci\n",
    "keywords_tfidf = tfidf_vectorizer.transform([keywords])\n",
    "\n",
    "# Hitung cosine similarity antara kata kunci dan setiap pekerjaan\n",
    "cosine_similarities = cosine_similarity(keywords_tfidf, tfidf_matrix)\n",
    "\n",
    "cosine_similarities"
   ]
  },
  {
   "cell_type": "code",
   "execution_count": 138,
   "id": "19cbd964",
   "metadata": {},
   "outputs": [
    {
     "data": {
      "text/plain": [
       "['lowong kerja web developer usaha abc',\n",
       " 'butuh software engineer proyek inovatif',\n",
       " 'lowong kerja data analyst gaji tarik',\n",
       " 'cari ui ux designer alam startup',\n",
       " 'lowong kerja data scientist',\n",
       " 'butuh software engineer alam bidang kembang web',\n",
       " 'cari ui ux designer kreatif alam',\n",
       " 'usaha cari data scientist analis data buat model prediktif',\n",
       " 'butuh digital marketing specialist kelola kampanye pasar online',\n",
       " 'usaha cari product manager milik alam industri teknologi',\n",
       " 'cari content writer kreatif mampu tulis konten kualitas',\n",
       " 'usaha butuh frontend developer kembang antarmuka',\n",
       " 'butuh hr manager alam manajemen sumber daya manusia',\n",
       " 'cari graphic designer mampu cipta desain visual tarik',\n",
       " 'usaha cari business analyst analis butuh bisnis',\n",
       " 'butuh sales executive jalin hubung bisnis klien',\n",
       " 'cari data analyst milik tahu luas teknologi kini',\n",
       " 'usaha butuh customer service representative ramah efisien',\n",
       " 'butuh project manager kelola proyek tim baik',\n",
       " 'cari social media specialist kelola hadir online usaha',\n",
       " 'usaha cari android developer alam kembang aplikasi',\n",
       " 'butuh accountant kelola uang usaha',\n",
       " 'cari network administrator milik paham jaring komputer',\n",
       " 'usaha butuh legal counsel beri nasihat hukum',\n",
       " 'butuh data analyst kumpul analis data']"
      ]
     },
     "execution_count": 138,
     "metadata": {},
     "output_type": "execute_result"
    }
   ],
   "source": [
    "import re\n",
    "import pandas as pd\n",
    "from Sastrawi.Stemmer.StemmerFactory import StemmerFactory\n",
    "from Sastrawi.StopWordRemover.StopWordRemoverFactory import StopWordRemoverFactory\n",
    "\n",
    "\n",
    "df = pd.DataFrame(jobs, columns=[\"jobs\"])\n",
    "df = df.dropna()\n",
    "\n",
    "factory = StemmerFactory()\n",
    "stemmer = factory.create_stemmer()\n",
    "stopword = StopWordRemoverFactory().create_stop_word_remover()\n",
    "\n",
    "def stemming(dframe):\n",
    "    stemmed = [stopword.remove(stemmer.stem(html_pattern.sub(r'', text).lower())) for text in dframe[\"text\"]]\n",
    "    return stemmed\n",
    "\n",
    "#for i, job in enumerate(jobs):\n",
    "    \n",
    "\n",
    "    \n",
    "jobs"
   ]
  },
  {
   "cell_type": "code",
   "execution_count": null,
   "id": "a857cc40",
   "metadata": {},
   "outputs": [],
   "source": []
  },
  {
   "cell_type": "code",
   "execution_count": 75,
   "id": "60aa29a8",
   "metadata": {},
   "outputs": [
    {
     "data": {
      "text/plain": [
       "(array([24,  2, 16,  7,  4, 14, 10,  1,  3,  5,  6,  8,  9, 12, 11, 23, 13,\n",
       "        15, 17, 18, 19, 20, 21, 22,  0], dtype=int64),\n",
       " ['Dibutuhkan Data Analyst untuk mengumpulkan dan menganalisis data pengguna.',\n",
       "  'Lowongan Kerja Data Analyst dengan Gaji Menarik',\n",
       "  'Dicari Data Analyst yang memiliki pengetahuan luas tentang teknologi terkini.',\n",
       "  'Perusahaan mencari Data Scientist untuk menganalisis data dan membuat model prediktif.',\n",
       "  'Lowongan Kerja Data Scientist',\n",
       "  'Perusahaan mencari Business Analyst untuk menganalisis kebutuhan bisnis.',\n",
       "  'Dicari Content Writer yang kreatif dan mampu menulis konten berkualitas.',\n",
       "  'Dibutuhkan Software Engineer untuk Proyek Inovatif',\n",
       "  'Dicari UI/UX Designer berpengalaman untuk Startup',\n",
       "  'Dibutuhkan Software Engineer dengan pengalaman di bidang pengembangan web.',\n",
       "  'Dicari UI/UX Designer yang kreatif dan berpengalaman.',\n",
       "  'Dibutuhkan Digital Marketing Specialist untuk mengelola kampanye pemasaran online.',\n",
       "  'Perusahaan mencari Product Manager yang memiliki pengalaman di industri teknologi.',\n",
       "  'Dibutuhkan HR Manager dengan pengalaman dalam manajemen sumber daya manusia.',\n",
       "  'Perusahaan membutuhkan Frontend Developer untuk mengembangkan antarmuka pengguna.',\n",
       "  'Perusahaan membutuhkan Legal Counsel untuk memberikan nasihat hukum.',\n",
       "  'Dicari Graphic Designer yang mampu menciptakan desain visual yang menarik.',\n",
       "  'Dibutuhkan Sales Executive untuk menjalin hubungan bisnis dengan klien.',\n",
       "  'Perusahaan membutuhkan Customer Service Representative yang ramah dan efisien.',\n",
       "  'Dibutuhkan Project Manager untuk mengelola proyek dan tim dengan baik.',\n",
       "  'Dicari Social Media Specialist untuk mengelola kehadiran online perusahaan.',\n",
       "  'Perusahaan mencari Android Developer yang berpengalaman dalam pengembangan aplikasi.',\n",
       "  'Dibutuhkan Accountant untuk mengelola keuangan perusahaan.',\n",
       "  'Dicari Network Administrator yang memiliki pemahaman tentang jaringan komputer.',\n",
       "  'Lowongan Kerja Web Developer di Perusahaan ABC'])"
      ]
     },
     "execution_count": 75,
     "metadata": {},
     "output_type": "execute_result"
    }
   ],
   "source": [
    "#top_5_job_indices = cosine_similarities.argsort()[0][-5:][::-1] \n",
    "top_job_indices = cosine_similarities.argsort()[0][::-1]\n",
    "recommended_jobs = [jobs[idx] for idx in top_job_indices]\n",
    "\n",
    "top_job_indices, recommended_jobs "
   ]
  },
  {
   "cell_type": "code",
   "execution_count": 76,
   "id": "96181d01",
   "metadata": {},
   "outputs": [
    {
     "name": "stdout",
     "output_type": "stream",
     "text": [
      "Hasil Rekomendasi:\n",
      "1. Dibutuhkan Data Analyst untuk mengumpulkan dan menganalisis data pengguna.\n",
      "2. Lowongan Kerja Data Analyst dengan Gaji Menarik\n",
      "3. Dicari Data Analyst yang memiliki pengetahuan luas tentang teknologi terkini.\n",
      "4. Perusahaan mencari Data Scientist untuk menganalisis data dan membuat model prediktif.\n",
      "5. Lowongan Kerja Data Scientist\n",
      "6. Perusahaan mencari Business Analyst untuk menganalisis kebutuhan bisnis.\n",
      "7. Dicari Content Writer yang kreatif dan mampu menulis konten berkualitas.\n",
      "8. Dibutuhkan Software Engineer untuk Proyek Inovatif\n",
      "9. Dicari UI/UX Designer berpengalaman untuk Startup\n",
      "10. Dibutuhkan Software Engineer dengan pengalaman di bidang pengembangan web.\n",
      "11. Dicari UI/UX Designer yang kreatif dan berpengalaman.\n",
      "12. Dibutuhkan Digital Marketing Specialist untuk mengelola kampanye pemasaran online.\n",
      "13. Perusahaan mencari Product Manager yang memiliki pengalaman di industri teknologi.\n",
      "14. Dibutuhkan HR Manager dengan pengalaman dalam manajemen sumber daya manusia.\n",
      "15. Perusahaan membutuhkan Frontend Developer untuk mengembangkan antarmuka pengguna.\n",
      "16. Perusahaan membutuhkan Legal Counsel untuk memberikan nasihat hukum.\n",
      "17. Dicari Graphic Designer yang mampu menciptakan desain visual yang menarik.\n",
      "18. Dibutuhkan Sales Executive untuk menjalin hubungan bisnis dengan klien.\n",
      "19. Perusahaan membutuhkan Customer Service Representative yang ramah dan efisien.\n",
      "20. Dibutuhkan Project Manager untuk mengelola proyek dan tim dengan baik.\n",
      "21. Dicari Social Media Specialist untuk mengelola kehadiran online perusahaan.\n",
      "22. Perusahaan mencari Android Developer yang berpengalaman dalam pengembangan aplikasi.\n",
      "23. Dibutuhkan Accountant untuk mengelola keuangan perusahaan.\n",
      "24. Dicari Network Administrator yang memiliki pemahaman tentang jaringan komputer.\n",
      "25. Lowongan Kerja Web Developer di Perusahaan ABC\n",
      "\n"
     ]
    }
   ],
   "source": [
    "print(\"Hasil Rekomendasi:\")\n",
    "for idx, job in enumerate(recommended_jobs, start=1):\n",
    "    print(f\"{idx}. {job}\")\n",
    "print()"
   ]
  },
  {
   "cell_type": "code",
   "execution_count": 96,
   "id": "701de34f",
   "metadata": {},
   "outputs": [
    {
     "name": "stdout",
     "output_type": "stream",
     "text": [
      "{0, 2, 4, 7, 16, 24} {0, 1, 2, 3, 4, 5, 6, 7, 8, 9, 10, 11, 12, 13, 14, 15, 16, 17, 18, 19, 20, 21, 22, 23, 24} {0, 2, 4, 7, 16, 24} 25\n",
      "Precision: 0.24\n",
      "Recall: 1.00\n",
      "F1-Score: 0.39\n"
     ]
    },
    {
     "data": {
      "text/plain": [
       "([24, 2, 16, 7, 4, 0],\n",
       " array([24,  2, 16,  7,  4, 14, 10,  1,  3,  5,  6,  8,  9, 12, 11, 23, 13,\n",
       "        15, 17, 18, 19, 20, 21, 22,  0], dtype=int64))"
      ]
     },
     "execution_count": 96,
     "metadata": {},
     "output_type": "execute_result"
    }
   ],
   "source": [
    "ground_truth_list = [24,  2, 16,  7,  4, 0]\n",
    "\n",
    "# Lakukan evaluasi\n",
    "y_true = ground_truth_list\n",
    "y_pred = top_job_indices\n",
    "\n",
    "def precision_recall_f1(y_true, y_pred):\n",
    "    tp = len(set(y_true) & set(y_pred))\n",
    "    print(set(y_true), set(y_pred), set(y_true) & set(y_pred), len(y_pred))\n",
    "    precision = tp / len(y_pred)\n",
    "    recall = tp / len(y_true)\n",
    "    f1 = 2 * (precision * recall) / (precision + recall)\n",
    "    return precision, recall, f1\n",
    "\n",
    "precision, recall, f1 = precision_recall_f1(y_true, y_pred)\n",
    "\n",
    "print(f\"Precision: {precision:.2f}\")\n",
    "print(f\"Recall: {recall:.2f}\")\n",
    "print(f\"F1-Score: {f1:.2f}\")\n",
    "\n",
    "y_true, y_pred"
   ]
  },
  {
   "cell_type": "code",
   "execution_count": 97,
   "id": "ff93eb3d",
   "metadata": {},
   "outputs": [],
   "source": [
    "# Langkah 6: Identifikasi rekomendasi\n",
    "similar_docs_indices = cosine_similarities.argsort()[0][::-1]\n",
    "recommended_docs = [jobs[index] for index in similar_docs_indices]\n",
    "\n",
    "# Evaluasi precision dan recall\n",
    "relevant_recommended = sum(1 for doc_idx in similar_docs_indices if doc_idx in ground_truth_list)\n",
    "precision = relevant_recommended / len(similar_docs_indices)\n",
    "recall = relevant_recommended / len(ground_truth_list)\n",
    "\n",
    "# Hitung F1 score\n",
    "if precision + recall == 0:\n",
    "    f1_score = 0\n",
    "else:\n",
    "    f1_score = 2 * (precision * recall) / (precision + recall)\n",
    "\n",
    "# Hitung accuracy\n",
    "true_positives = sum(1 for doc_idx in similar_docs_indices if doc_idx in ground_truth_list)\n",
    "false_positives = len(similar_docs_indices) - true_positives\n",
    "false_negatives = len(ground_truth_list) - true_positives\n",
    "true_negatives = len(jobs) - len(ground_truth_list) - false_positives\n",
    "\n",
    "accuracy = (true_positives + true_negatives) / len(jobs)"
   ]
  },
  {
   "cell_type": "code",
   "execution_count": 99,
   "id": "a09f0ff2",
   "metadata": {},
   "outputs": [
    {
     "name": "stdout",
     "output_type": "stream",
     "text": [
      "6\n",
      "Hasil Rekomendasi: ['Dibutuhkan Data Analyst untuk mengumpulkan dan menganalisis data pengguna.', 'Lowongan Kerja Data Analyst dengan Gaji Menarik', 'Dicari Data Analyst yang memiliki pengetahuan luas tentang teknologi terkini.', 'Perusahaan mencari Data Scientist untuk menganalisis data dan membuat model prediktif.', 'Lowongan Kerja Data Scientist', 'Perusahaan mencari Business Analyst untuk menganalisis kebutuhan bisnis.', 'Dicari Content Writer yang kreatif dan mampu menulis konten berkualitas.', 'Dibutuhkan Software Engineer untuk Proyek Inovatif', 'Dicari UI/UX Designer berpengalaman untuk Startup', 'Dibutuhkan Software Engineer dengan pengalaman di bidang pengembangan web.', 'Dicari UI/UX Designer yang kreatif dan berpengalaman.', 'Dibutuhkan Digital Marketing Specialist untuk mengelola kampanye pemasaran online.', 'Perusahaan mencari Product Manager yang memiliki pengalaman di industri teknologi.', 'Dibutuhkan HR Manager dengan pengalaman dalam manajemen sumber daya manusia.', 'Perusahaan membutuhkan Frontend Developer untuk mengembangkan antarmuka pengguna.', 'Perusahaan membutuhkan Legal Counsel untuk memberikan nasihat hukum.', 'Dicari Graphic Designer yang mampu menciptakan desain visual yang menarik.', 'Dibutuhkan Sales Executive untuk menjalin hubungan bisnis dengan klien.', 'Perusahaan membutuhkan Customer Service Representative yang ramah dan efisien.', 'Dibutuhkan Project Manager untuk mengelola proyek dan tim dengan baik.', 'Dicari Social Media Specialist untuk mengelola kehadiran online perusahaan.', 'Perusahaan mencari Android Developer yang berpengalaman dalam pengembangan aplikasi.', 'Dibutuhkan Accountant untuk mengelola keuangan perusahaan.', 'Dicari Network Administrator yang memiliki pemahaman tentang jaringan komputer.', 'Lowongan Kerja Web Developer di Perusahaan ABC']\n",
      "\n",
      "\n",
      "Ground Truth: [24, 2, 16, 7, 4, 0]\n",
      "Precision: 0.24\n",
      "Recall: 1.00\n",
      "F1 Score: 0.39\n",
      "Accuracy: 0.24\n"
     ]
    }
   ],
   "source": [
    "print(relevant_recommended)\n",
    "print(f\"Hasil Rekomendasi: {recommended_docs}\")\n",
    "print()\n",
    "print()\n",
    "print(f\"Ground Truth: {ground_truth_list}\")\n",
    "print(f\"Precision: {precision:.2f}\")\n",
    "print(f\"Recall: {recall:.2f}\")\n",
    "print(f\"F1 Score: {f1_score:.2f}\")\n",
    "print(f\"Accuracy: {accuracy:.2f}\")"
   ]
  }
 ],
 "metadata": {
  "kernelspec": {
   "display_name": "Python 3 (ipykernel)",
   "language": "python",
   "name": "python3"
  },
  "language_info": {
   "codemirror_mode": {
    "name": "ipython",
    "version": 3
   },
   "file_extension": ".py",
   "mimetype": "text/x-python",
   "name": "python",
   "nbconvert_exporter": "python",
   "pygments_lexer": "ipython3",
   "version": "3.10.5"
  }
 },
 "nbformat": 4,
 "nbformat_minor": 5
}
